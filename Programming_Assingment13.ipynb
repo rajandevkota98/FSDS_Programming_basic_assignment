{
 "cells": [
  {
   "cell_type": "markdown",
   "id": "34ed8699",
   "metadata": {},
   "source": [
    "# Question 1:\n",
    "Write a program that calculates and prints the value according to the given formula:\n",
    "\n",
    "Q = Square root of [(2 * C * D)/H]\n",
    "\n",
    "Following are the fixed values of C and H:\n",
    "\n",
    "C is 50. H is 30.\n",
    "\n",
    "D is the variable whose values should be input to your program in a comma-separated sequence.\n",
    "\n",
    "Example\n",
    "\n",
    "Let us assume the following comma separated input sequence is given to the program:\n",
    "\n",
    "100,150,180\n",
    "\n",
    "The output of the program should be:\n",
    "\n",
    "18,22,24"
   ]
  },
  {
   "cell_type": "code",
   "execution_count": 8,
   "id": "965891b8",
   "metadata": {},
   "outputs": [
    {
     "name": "stdout",
     "output_type": "stream",
     "text": [
      "Enter comma separated values:100,150,180\n",
      "18 22 24 \n"
     ]
    }
   ],
   "source": [
    "import math\n",
    "C = 50\n",
    "H = 30\n",
    "\n",
    "#Taking the input from user\n",
    "user_input = input('Enter comma separated values:')\n",
    "input_list = user_input.split(',')\n",
    "output_value = []\n",
    "for i in input_list:\n",
    "    i = int(i)\n",
    "    q = math.sqrt(2*C*i/H)\n",
    "    output_value.append(int(q))\n",
    "    \n",
    "output_string = ''\n",
    "for i in output_value:\n",
    "    output_string = output_string+ str(i)+ ' '\n",
    "    \n",
    "print(output_string)"
   ]
  },
  {
   "cell_type": "markdown",
   "id": "5b94e37e",
   "metadata": {},
   "source": [
    "# Question 2:\n",
    "Write a program which takes 2 digits, X,Y as input and generates a 2-dimensional array. The element value in the i-th row and j-th column of the array should be i*j.\n",
    "\n",
    "Note: i=0,1.., X-1; j=0,1,¡Y-1.\n",
    "\n",
    "Example\n",
    "\n",
    "Suppose the following inputs are given to the program:\n",
    "\n",
    "3,5\n",
    "\n",
    "Then, the output of the program should be:\n",
    "\n",
    "[[0, 0, 0, 0, 0], [0, 1, 2, 3, 4], [0, 2, 4, 6, 8]]"
   ]
  },
  {
   "cell_type": "code",
   "execution_count": 10,
   "id": "17d47bc9",
   "metadata": {},
   "outputs": [
    {
     "name": "stdout",
     "output_type": "stream",
     "text": [
      "Enter the value of X3\n",
      "Enter the value of X5\n"
     ]
    }
   ],
   "source": [
    "X = int(input('Enter the value of X'))\n",
    "Y= int(input('Enter the value of X'))\n",
    "\n",
    "\n",
    "array = [[i*j for j in range(Y)] for i in range(X)]\n"
   ]
  },
  {
   "cell_type": "code",
   "execution_count": 11,
   "id": "d221f1f2",
   "metadata": {},
   "outputs": [
    {
     "data": {
      "text/plain": [
       "[[0, 0, 0, 0, 0], [0, 1, 2, 3, 4], [0, 2, 4, 6, 8]]"
      ]
     },
     "execution_count": 11,
     "metadata": {},
     "output_type": "execute_result"
    }
   ],
   "source": [
    "array"
   ]
  },
  {
   "cell_type": "markdown",
   "id": "9a5767eb",
   "metadata": {},
   "source": [
    "# Question 3:\n",
    "    \n",
    "Write a program that accepts a comma separated sequence of words as input and prints the\n",
    "words in a comma-separated sequence after sorting them alphabetically.\n",
    "\n",
    "Suppose the following input is supplied to the program:\n",
    "    \n",
    "without,hello,bag,world\n",
    "\n",
    "Then, the output should be:\n",
    "    \n",
    "bag,hello,without,world"
   ]
  },
  {
   "cell_type": "code",
   "execution_count": 16,
   "id": "6a24eb34",
   "metadata": {},
   "outputs": [
    {
     "name": "stdout",
     "output_type": "stream",
     "text": [
      "Enter the comma separated wordswithout,hello,bag,world\n",
      "['bag', 'hello', 'without', 'world']\n"
     ]
    }
   ],
   "source": [
    "input_string = input('Enter the comma separated words')\n",
    "list1 = input_string.split(',')\n",
    "print(sorted(list1))\n",
    "    "
   ]
  },
  {
   "cell_type": "markdown",
   "id": "f7e2a563",
   "metadata": {},
   "source": [
    "# Question 4:\n",
    "    \n",
    "Write a program that accepts a sequence of whitespace separated words as input and prints\n",
    "the words after removing all duplicate words and sorting them alphanumerically.\n",
    "Suppose the following input is supplied to the program:\n",
    "    \n",
    "hello world and practice makes perfect and hello world again\n",
    "\n",
    "Then, the output should be:\n",
    "    \n",
    "again and hello makes perfect practice world"
   ]
  },
  {
   "cell_type": "code",
   "execution_count": 17,
   "id": "8586acf0",
   "metadata": {},
   "outputs": [
    {
     "name": "stdout",
     "output_type": "stream",
     "text": [
      "Enter the whitespace separated wordshello world and practice makes perfect and hello world again\n",
      "['again', 'and', 'hello', 'makes', 'perfect', 'practice', 'world']\n"
     ]
    }
   ],
   "source": [
    "input_string  = input('Enter the whitespace separated words')\n",
    "\n",
    "\n",
    "input_list = input_string.split(' ')\n",
    "\n",
    "word_without_duplicate = set(input_list)\n",
    "print(sorted(word_without_duplicate))"
   ]
  },
  {
   "cell_type": "markdown",
   "id": "b6b98079",
   "metadata": {},
   "source": [
    "# Question 5:\n",
    "    \n",
    "Write a program that accepts a sentence and calculate the number of letters and digits.\n",
    "Suppose the following input is supplied to the program:\n",
    "    \n",
    "hello world! 123\n",
    "\n",
    "Then, the output should be:\n",
    "    \n",
    "LETTERS 10\n",
    "\n",
    "DIGITS 3"
   ]
  },
  {
   "cell_type": "code",
   "execution_count": 39,
   "id": "4e81b0e3",
   "metadata": {},
   "outputs": [
    {
     "name": "stdout",
     "output_type": "stream",
     "text": [
      "Enter the sentencehello world! 123\n",
      "Digits: 3\n",
      "Letters 10\n"
     ]
    }
   ],
   "source": [
    "input_string = input('Enter the sentence')\n",
    "letter = 0\n",
    "digit  = 0\n",
    "for i in input_string:\n",
    "    if ord(i)>= 48 and ord(i) <=57:\n",
    "        digit = digit+1\n",
    "    if ord(i)>=65 and ord(i)<=90:\n",
    "        letter = letter+1\n",
    "    if ord(i)>=97 and ord(i)<=122:\n",
    "        letter = letter +1\n",
    "        \n",
    "print(f\"Digits: {digit}\\nLetters {letter}\")"
   ]
  },
  {
   "cell_type": "code",
   "execution_count": 31,
   "id": "fbb9766a",
   "metadata": {},
   "outputs": [
    {
     "data": {
      "text/plain": [
       "48"
      ]
     },
     "execution_count": 31,
     "metadata": {},
     "output_type": "execute_result"
    }
   ],
   "source": [
    "ord('0')"
   ]
  },
  {
   "cell_type": "code",
   "execution_count": 29,
   "id": "7a649bb3",
   "metadata": {},
   "outputs": [
    {
     "data": {
      "text/plain": [
       "57"
      ]
     },
     "execution_count": 29,
     "metadata": {},
     "output_type": "execute_result"
    }
   ],
   "source": [
    "ord('9')"
   ]
  },
  {
   "cell_type": "code",
   "execution_count": 32,
   "id": "277a733b",
   "metadata": {},
   "outputs": [
    {
     "data": {
      "text/plain": [
       "65"
      ]
     },
     "execution_count": 32,
     "metadata": {},
     "output_type": "execute_result"
    }
   ],
   "source": [
    "ord('A')"
   ]
  },
  {
   "cell_type": "code",
   "execution_count": 33,
   "id": "fe33cd4c",
   "metadata": {},
   "outputs": [
    {
     "data": {
      "text/plain": [
       "90"
      ]
     },
     "execution_count": 33,
     "metadata": {},
     "output_type": "execute_result"
    }
   ],
   "source": [
    "ord('Z')"
   ]
  },
  {
   "cell_type": "code",
   "execution_count": 35,
   "id": "ba74c68c",
   "metadata": {},
   "outputs": [
    {
     "data": {
      "text/plain": [
       "97"
      ]
     },
     "execution_count": 35,
     "metadata": {},
     "output_type": "execute_result"
    }
   ],
   "source": [
    "ord('a')"
   ]
  },
  {
   "cell_type": "code",
   "execution_count": 36,
   "id": "fb68da56",
   "metadata": {},
   "outputs": [
    {
     "data": {
      "text/plain": [
       "122"
      ]
     },
     "execution_count": 36,
     "metadata": {},
     "output_type": "execute_result"
    }
   ],
   "source": [
    "ord('z')"
   ]
  },
  {
   "cell_type": "markdown",
   "id": "89a088a9",
   "metadata": {},
   "source": [
    "# Question 6:\n",
    "    \n",
    "A website requires the users to input username and password to register. Write a program to\n",
    "check the validity of password input by users.\n",
    "\n",
    "Following are the criteria for checking the password:\n",
    "    \n",
    "1. At least 1 letter between [a-z]\n",
    "\n",
    "2. At least 1 number between [0-9]\n",
    "\n",
    "1. At least 1 letter between [A-Z]\n",
    "\n",
    "3. At least 1 character from [$#@]\n",
    "                              \n",
    "4. Minimum length of transaction password: 6\n",
    "                              \n",
    "5. Maximum length of transaction password: 12\n",
    "                              \n",
    "Your program should accept a sequence of comma separated passwords and will check them\n",
    "                              \n",
    "according to the above criteria. Passwords that match the criteria are to be printed, each\n",
    "                              \n",
    "separated by a comma.\n",
    "                              \n",
    "Example\n",
    "                              \n",
    "If the following passwords are given as input to the program:\n",
    "                              \n",
    "ABd1234@1,a F1#,2w3E*,2We3345\n",
    "                              \n",
    "Then, the output of the program should be:\n",
    "                              \n",
    "ABd1234@1"
   ]
  },
  {
   "cell_type": "code",
   "execution_count": 50,
   "id": "3518b46f",
   "metadata": {},
   "outputs": [
    {
     "name": "stdout",
     "output_type": "stream",
     "text": [
      "Enter the passwordsABd1234@1,a F1#,2w3E*,2We3345\n",
      "['ABd1234@1']\n"
     ]
    }
   ],
   "source": [
    "input_value = input('Enter the passwords')\n",
    "\n",
    "input_value_list = input_value.split(',')\n",
    "\n",
    "acceptable_password = []\n",
    "for i in input_value_list:\n",
    "    small_letter = 0\n",
    "    number = 0\n",
    "    capital_letter = 0\n",
    "    special_char = 0\n",
    "    min_lenght = 6\n",
    "    max_lenght = 12\n",
    "    for j in i:\n",
    "        if ord(j)>= 48 and ord(j) <=57:\n",
    "            number = number+1\n",
    "#             print(i)\n",
    "        if ord(j)>=65 and ord(j)<=90:\n",
    "            capital_letter = capital_letter+1\n",
    "#             print(i)\n",
    "        if ord(j)>=97 and ord(j)<=122:\n",
    "            small_letter = small_letter +1  \n",
    "#             print(i)\n",
    "        if ord(j)==36 or ord(j)==35 or ord(j)==64:\n",
    "            special_char=special_char+1\n",
    "        length = len(i)\n",
    "        \n",
    "        \n",
    "    if length >= min_lenght and length<=max_lenght and small_letter > 0 and number>0 and capital_letter>0 and special_char>0:\n",
    "        acceptable_password.append(i)\n",
    "#     print(length,small_letter,number,capital_letter,special_char)\n",
    "print(acceptable_password)\n"
   ]
  },
  {
   "cell_type": "code",
   "execution_count": 41,
   "id": "e5cffbd2",
   "metadata": {},
   "outputs": [
    {
     "name": "stdout",
     "output_type": "stream",
     "text": [
      "36\n",
      "35\n",
      "64\n"
     ]
    }
   ],
   "source": [
    "for i in '$#@':\n",
    "    print(ord(i))"
   ]
  },
  {
   "cell_type": "code",
   "execution_count": null,
   "id": "e186318b",
   "metadata": {},
   "outputs": [],
   "source": []
  }
 ],
 "metadata": {
  "kernelspec": {
   "display_name": "Python 3 (ipykernel)",
   "language": "python",
   "name": "python3"
  },
  "language_info": {
   "codemirror_mode": {
    "name": "ipython",
    "version": 3
   },
   "file_extension": ".py",
   "mimetype": "text/x-python",
   "name": "python",
   "nbconvert_exporter": "python",
   "pygments_lexer": "ipython3",
   "version": "3.10.9"
  }
 },
 "nbformat": 4,
 "nbformat_minor": 5
}
