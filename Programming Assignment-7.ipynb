{
 "cells": [
  {
   "cell_type": "markdown",
   "id": "eefeee59",
   "metadata": {},
   "source": [
    "# 1. Write a Python Program to find sum of array?"
   ]
  },
  {
   "cell_type": "code",
   "execution_count": 3,
   "id": "481eea55",
   "metadata": {},
   "outputs": [],
   "source": [
    "def sum_array(arr):\n",
    "    sumarr = 0\n",
    "    for i in arr:\n",
    "        sumarr = sumarr+i\n",
    "    return sumarr"
   ]
  },
  {
   "cell_type": "code",
   "execution_count": 4,
   "id": "2809ad2c",
   "metadata": {},
   "outputs": [
    {
     "data": {
      "text/plain": [
       "6"
      ]
     },
     "execution_count": 4,
     "metadata": {},
     "output_type": "execute_result"
    }
   ],
   "source": [
    "sum_array([1,2,3])"
   ]
  },
  {
   "cell_type": "markdown",
   "id": "ffacd3df",
   "metadata": {},
   "source": [
    "# 2. Write a Python Program to find largest element in an array?"
   ]
  },
  {
   "cell_type": "code",
   "execution_count": 25,
   "id": "dc11ea71",
   "metadata": {},
   "outputs": [],
   "source": [
    "def find_max(arr):\n",
    "    max = arr[0]\n",
    "    i = 0\n",
    "    for i in range(len(arr)):\n",
    "        if max< arr[i]:\n",
    "            max = arr[i]\n",
    "    return max"
   ]
  },
  {
   "cell_type": "code",
   "execution_count": 27,
   "id": "eaf5ccc9",
   "metadata": {},
   "outputs": [
    {
     "data": {
      "text/plain": [
       "100"
      ]
     },
     "execution_count": 27,
     "metadata": {},
     "output_type": "execute_result"
    }
   ],
   "source": [
    "find_max([100,2,3,4,5,4])"
   ]
  },
  {
   "cell_type": "markdown",
   "id": "220db0c0",
   "metadata": {},
   "source": [
    "# 3. Write a Python Program for array rotation?"
   ]
  },
  {
   "cell_type": "code",
   "execution_count": 33,
   "id": "72825a4c",
   "metadata": {},
   "outputs": [
    {
     "name": "stdout",
     "output_type": "stream",
     "text": [
      "4 44 3 4 1 1 2 3 "
     ]
    }
   ],
   "source": [
    "def splitArr(arr, n, k): \n",
    "    for i in range(0, k): \n",
    "        x = arr[0]\n",
    "        for j in range(0, n-1):\n",
    "            arr[j] = arr[j + 1]\n",
    "          \n",
    "        arr[n-1] = x\n",
    "          \n",
    "  \n",
    "# main\n",
    "arr =[1,2,3,4,44,3,4,1]\n",
    "n = len(arr)\n",
    "position = 3\n",
    "  \n",
    "splitArr(arr, n, position)\n",
    "  \n",
    "for i in range(0, n): \n",
    "    print(arr[i], end = ' ')"
   ]
  },
  {
   "cell_type": "markdown",
   "id": "16c839c2",
   "metadata": {},
   "source": [
    "# 4. Write a Python Program to Split the array and add the first part to the end?"
   ]
  },
  {
   "cell_type": "code",
   "execution_count": 24,
   "id": "29c410b6",
   "metadata": {},
   "outputs": [],
   "source": [
    "def split_fun(arr,n):\n",
    "    temp = []\n",
    "    for i in range(len(arr)):\n",
    "        if i>n-1:\n",
    "            temp.append(arr[i])\n",
    "    i = 0\n",
    "    while(i<n):\n",
    "        temp.append(arr[i])\n",
    "        i = i+1\n",
    "    \n",
    "    return temp\n",
    "            "
   ]
  },
  {
   "cell_type": "code",
   "execution_count": 25,
   "id": "34f2546b",
   "metadata": {},
   "outputs": [
    {
     "data": {
      "text/plain": [
       "[4, 44, 3, 4, 1, 1, 2, 3]"
      ]
     },
     "execution_count": 25,
     "metadata": {},
     "output_type": "execute_result"
    }
   ],
   "source": [
    "split_fun([1,2,3,4,44,3,4,1],3)"
   ]
  },
  {
   "cell_type": "markdown",
   "id": "a8c8ddc1",
   "metadata": {},
   "source": [
    "# 5. Write a Python Program to check if given array is Monotonic?"
   ]
  },
  {
   "cell_type": "code",
   "execution_count": 17,
   "id": "3d0c67b7",
   "metadata": {},
   "outputs": [],
   "source": [
    "class monotonic:\n",
    "    def __init__(self, arr):\n",
    "        self.arr = arr\n",
    "    def check_monotonic(self):\n",
    "        try:\n",
    "            check_increase = 1\n",
    "            check_decrease = 1\n",
    "        \n",
    "            for i in range(len(self.arr)-1):\n",
    "                if self.arr[i]< self.arr[i+1] or self.arr[i]== self.arr[i+1]:\n",
    "                    check_increase = check_increase + 1\n",
    "                if self.arr[i]> self.arr[i+1] or self.arr[i] == self.arr[i+1]:\n",
    "                    check_decrease = check_decrease + 1\n",
    "         \n",
    "            return check_increase == len(self.arr) or check_decrease == len(self.arr)\n",
    "        except Exception as e:\n",
    "            return e\n",
    "            "
   ]
  },
  {
   "cell_type": "code",
   "execution_count": 28,
   "id": "4ebf52dd",
   "metadata": {},
   "outputs": [],
   "source": [
    "l = [9,6,4,4,4,1]\n",
    "p = monotonic(l)"
   ]
  },
  {
   "cell_type": "code",
   "execution_count": 29,
   "id": "6e174b46",
   "metadata": {},
   "outputs": [
    {
     "data": {
      "text/plain": [
       "True"
      ]
     },
     "execution_count": 29,
     "metadata": {},
     "output_type": "execute_result"
    }
   ],
   "source": [
    "p.check_monotonic()"
   ]
  },
  {
   "cell_type": "code",
   "execution_count": null,
   "id": "440ae0fa",
   "metadata": {},
   "outputs": [],
   "source": []
  }
 ],
 "metadata": {
  "kernelspec": {
   "display_name": "Python 3",
   "language": "python",
   "name": "python3"
  },
  "language_info": {
   "codemirror_mode": {
    "name": "ipython",
    "version": 3
   },
   "file_extension": ".py",
   "mimetype": "text/x-python",
   "name": "python",
   "nbconvert_exporter": "python",
   "pygments_lexer": "ipython3",
   "version": "3.9.12"
  }
 },
 "nbformat": 4,
 "nbformat_minor": 5
}
