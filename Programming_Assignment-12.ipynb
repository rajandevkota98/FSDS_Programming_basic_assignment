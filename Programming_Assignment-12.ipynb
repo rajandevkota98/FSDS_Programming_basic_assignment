{
 "cells": [
  {
   "cell_type": "markdown",
   "id": "2405a31f",
   "metadata": {},
   "source": [
    "# 1. Write a Python program to Extract Unique values dictionary values?"
   ]
  },
  {
   "cell_type": "code",
   "execution_count": 1,
   "id": "5b10a866",
   "metadata": {},
   "outputs": [],
   "source": [
    "def extract_unique(d):\n",
    "    l =[]\n",
    "    s = set()\n",
    "    for i in d:\n",
    "        l.append(d[i])\n",
    "    return set(l)"
   ]
  },
  {
   "cell_type": "code",
   "execution_count": 2,
   "id": "06507ee0",
   "metadata": {},
   "outputs": [
    {
     "data": {
      "text/plain": [
       "{2, 3}"
      ]
     },
     "execution_count": 2,
     "metadata": {},
     "output_type": "execute_result"
    }
   ],
   "source": [
    "extract_unique({'A':2, 'B':3, 'C':2})"
   ]
  },
  {
   "cell_type": "markdown",
   "id": "89c84334",
   "metadata": {},
   "source": [
    "# 2. Write a Python program to find the sum of all items in a dictionary?"
   ]
  },
  {
   "cell_type": "code",
   "execution_count": 3,
   "id": "7fb0d6c0",
   "metadata": {},
   "outputs": [],
   "source": [
    "def sum_item(d):\n",
    "    sum = 0\n",
    "    for i in d:\n",
    "        if type(i)== int or type(i)==float:\n",
    "            sum = sum +i\n",
    "        if type(d[i])== int or type(d[i])==float:\n",
    "            sum = sum + d[i]\n",
    "    return sum"
   ]
  },
  {
   "cell_type": "code",
   "execution_count": 5,
   "id": "3dca44ea",
   "metadata": {},
   "outputs": [
    {
     "data": {
      "text/plain": [
       "10"
      ]
     },
     "execution_count": 5,
     "metadata": {},
     "output_type": "execute_result"
    }
   ],
   "source": [
    "sum_item({'A':2, 'B':3, 'C':2, 3:'A'})"
   ]
  },
  {
   "cell_type": "markdown",
   "id": "1450546e",
   "metadata": {},
   "source": [
    "# 3. Write a Python program to Merging two Dictionaries?"
   ]
  },
  {
   "cell_type": "code",
   "execution_count": 12,
   "id": "91bfdcd4",
   "metadata": {},
   "outputs": [],
   "source": [
    "def merge_dict(d1,d2):\n",
    "    new_dict = dict()\n",
    "    for i in d1:\n",
    "        new_dict[i] = d1[i]\n",
    "    for i in d2:\n",
    "        new_dict[i] = d2[i]\n",
    "    return new_dict"
   ]
  },
  {
   "cell_type": "code",
   "execution_count": 16,
   "id": "5bf8b7ac",
   "metadata": {},
   "outputs": [
    {
     "data": {
      "text/plain": [
       "{'A': 1, 'b': 1, 'B': 2}"
      ]
     },
     "execution_count": 16,
     "metadata": {},
     "output_type": "execute_result"
    }
   ],
   "source": [
    "merge_dict({'A':1, 'b':1},{'B':2})"
   ]
  },
  {
   "cell_type": "markdown",
   "id": "4b60afdc",
   "metadata": {},
   "source": [
    "# 4. Write a Python program to convert key-values list to flat dictionary?"
   ]
  },
  {
   "cell_type": "code",
   "execution_count": 83,
   "id": "06bcabef",
   "metadata": {},
   "outputs": [
    {
     "name": "stdout",
     "output_type": "stream",
     "text": [
      "Original dictionary:  {'day': [1, 2, 3], 'name': ['Mon', 'Tues', 'Wed']}\n",
      "FLATTENED DICTIONARY:  {1: 'Mon', 2: 'Tues', 3: 'Wed'}\n"
     ]
    }
   ],
   "source": [
    "dic= { \"day\": [1, 2, 3], \"name\": ['Mon', 'Tues', 'Wed' ] }\n",
    "print(\"Original dictionary: \",dic)\n",
    "\n",
    "# convert to flat dictionary\n",
    "\n",
    "f_dic= dict(zip(dic[\"day\"], dic[\"name\"]))\n",
    "print(\"FLATTENED DICTIONARY: \", f_dic)"
   ]
  },
  {
   "cell_type": "markdown",
   "id": "76999194",
   "metadata": {},
   "source": [
    "# 5. Write a Python program to insertion at the beginning in OrderedDict?"
   ]
  },
  {
   "cell_type": "code",
   "execution_count": 21,
   "id": "6b7e446f",
   "metadata": {},
   "outputs": [],
   "source": [
    "def insert_at_begining(inserting_dict, orderd_dict):\n",
    "    new_dict= dict()\n",
    "    for i in inserting_dict:\n",
    "        new_dict[i] = inserting_dict[i]\n",
    "    for i in orderd_dict:\n",
    "        new_dict[i] = orderd_dict[i]\n",
    "    return new_dict"
   ]
  },
  {
   "cell_type": "code",
   "execution_count": 23,
   "id": "365cd1f5",
   "metadata": {},
   "outputs": [
    {
     "data": {
      "text/plain": [
       "{1: 'A', 2: 'AC', 'c': 1}"
      ]
     },
     "execution_count": 23,
     "metadata": {},
     "output_type": "execute_result"
    }
   ],
   "source": [
    "insert_at_begining({1:'A'},{1:'A',2:'AC', 'c':1})"
   ]
  },
  {
   "cell_type": "markdown",
   "id": "0db19f6f",
   "metadata": {},
   "source": [
    "# 6. Write a Python program to check order of character in string using OrderedDict()?"
   ]
  },
  {
   "cell_type": "code",
   "execution_count": 82,
   "id": "0274aa71",
   "metadata": {},
   "outputs": [
    {
     "name": "stdout",
     "output_type": "stream",
     "text": [
      "true\n"
     ]
    }
   ],
   "source": [
    "from collections import OrderedDict \n",
    "def checkOrder(input, pattern): \n",
    "\n",
    "    dict = OrderedDict.fromkeys(input) \n",
    "  \n",
    "    ptrlen = 0\n",
    "    for key,value in dict.items(): \n",
    "        if (key == pattern[ptrlen]): \n",
    "            ptrlen = ptrlen + 1\n",
    "\n",
    "        if (ptrlen == (len(pattern))): \n",
    "            return 'true'\n",
    "  \n",
    "    return 'false'\n",
    "  \n",
    "# Driver program \n",
    "if __name__ == \"__main__\": \n",
    "    input = 'engineers rock'\n",
    "    pattern = 'er'\n",
    "    print (checkOrder(input,pattern))"
   ]
  },
  {
   "cell_type": "markdown",
   "id": "5cda5967",
   "metadata": {},
   "source": [
    "# 7. Write a Python program to sort Python Dictionaries by Key or Value?"
   ]
  },
  {
   "cell_type": "code",
   "execution_count": 75,
   "id": "a4475544",
   "metadata": {},
   "outputs": [],
   "source": [
    "def sort_dict(dict1):\n",
    "    #let us sort using key\n",
    "    new_dict = dict()\n",
    "    l = []\n",
    "    for i in dict1:\n",
    "        l.append(i)\n",
    "    l.sort()\n",
    "    for i in l:\n",
    "        if i in dict1:\n",
    "            new_dict[i] = dict1[i]\n",
    "            \n",
    "    return new_dict\n",
    "        "
   ]
  },
  {
   "cell_type": "code",
   "execution_count": 77,
   "id": "0efb4b5d",
   "metadata": {},
   "outputs": [
    {
     "data": {
      "text/plain": [
       "{-1: 'C', 1: 'A', 2: 'B', 3: 'C'}"
      ]
     },
     "execution_count": 77,
     "metadata": {},
     "output_type": "execute_result"
    }
   ],
   "source": [
    "sort_dict({1:'A', 3:'C',2:'B',-1:'C'})"
   ]
  }
 ],
 "metadata": {
  "kernelspec": {
   "display_name": "Python 3",
   "language": "python",
   "name": "python3"
  },
  "language_info": {
   "codemirror_mode": {
    "name": "ipython",
    "version": 3
   },
   "file_extension": ".py",
   "mimetype": "text/x-python",
   "name": "python",
   "nbconvert_exporter": "python",
   "pygments_lexer": "ipython3",
   "version": "3.9.12"
  }
 },
 "nbformat": 4,
 "nbformat_minor": 5
}
