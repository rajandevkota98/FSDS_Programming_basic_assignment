{
 "cells": [
  {
   "cell_type": "markdown",
   "id": "07c2d492",
   "metadata": {},
   "source": [
    "# Question1. Write a function that stutters a word as if someone is struggling to read it. The\n",
    "first two letters are repeated twice with an ellipsis ... and space after each, and then the\n",
    "word is pronounced with a question mark ?.\n",
    "\n",
    "Examples\n",
    "\n",
    "stutter(&quot;incredible&quot;) ➞ &quot;in... in... incredible?&quot;\n",
    "\n",
    "stutter(&quot;enthusiastic&quot;) ➞ &quot;en... en... enthusiastic?&quot;\n",
    "\n",
    "stutter(&quot;outstanding&quot;) ➞ &quot;ou... ou... outstanding?&quot;\n",
    "\n",
    "Hint :- Assume all input is in lower case and at least two characters long."
   ]
  },
  {
   "cell_type": "code",
   "execution_count": 4,
   "id": "7f8d8c31",
   "metadata": {},
   "outputs": [],
   "source": [
    "def stutters(word):\n",
    "    word = word.lower()\n",
    "    return str(f\"{word[:2]}{'.'*3}{word[:2]}{'.'*3}{word}?\")"
   ]
  },
  {
   "cell_type": "code",
   "execution_count": 5,
   "id": "2e01505e",
   "metadata": {},
   "outputs": [
    {
     "data": {
      "text/plain": [
       "'in...in...incredible?'"
      ]
     },
     "execution_count": 5,
     "metadata": {},
     "output_type": "execute_result"
    }
   ],
   "source": [
    "stutters(\"incredible\")"
   ]
  },
  {
   "cell_type": "markdown",
   "id": "b607a46d",
   "metadata": {},
   "source": [
    "# Question 2.\n",
    "Create a function that takes an angle in radians and returns the corresponding\n",
    "angle in degrees rounded to one decimal place.\n",
    "\n",
    "Examples\n",
    "\n",
    "radians_to_degrees(1) ➞ 57.3\n",
    "\n",
    "radians_to_degrees(20) ➞ 1145.9\n",
    "\n",
    "radians_to_degrees(50) ➞ 2864.8"
   ]
  },
  {
   "cell_type": "code",
   "execution_count": 17,
   "id": "0e0ea941",
   "metadata": {},
   "outputs": [],
   "source": [
    "import math\n",
    "\n",
    "def radian_to_degree(n):\n",
    "    degree = n*180/math.pi\n",
    "    return round(degree,1)\n",
    "    \n",
    "    "
   ]
  },
  {
   "cell_type": "code",
   "execution_count": 18,
   "id": "4a2a6b3c",
   "metadata": {},
   "outputs": [
    {
     "data": {
      "text/plain": [
       "57.3"
      ]
     },
     "execution_count": 18,
     "metadata": {},
     "output_type": "execute_result"
    }
   ],
   "source": [
    "radian_to_degree(1)"
   ]
  },
  {
   "cell_type": "markdown",
   "id": "5f79b1ce",
   "metadata": {},
   "source": [
    "# Question 3. \n",
    "In this challenge, establish if a given integer num is a Curzon number. If 1 plus\n",
    "2 elevated to num is exactly divisible by 1 plus 2 multiplied by num, then num is a Curzon\n",
    "number.\n",
    "Given a non-negative integer num, implement a function that returns True if num is a Curzon\n",
    "number, or False otherwise.\n",
    "Examples\n",
    "is_curzon(5) ➞ True\n",
    "### 2 ** 5 + 1 = 33\n",
    "### 2 * 5 + 1 = 11\n",
    "### 33 is a multiple of 11\n",
    "is_curzon(10) ➞ False\n",
    "### 2 ** 10 + 1 = 1025\n",
    "### 2 * 10 + 1 = 21\n",
    "### 1025 is not a multiple of 21\n",
    "is_curzon(14) ➞ True\n",
    "### 2 ** 14 + 1 = 16385\n",
    "### 2 * 14 + 1 = 29\n",
    "### 16385 is a multiple of 29"
   ]
  },
  {
   "cell_type": "code",
   "execution_count": 27,
   "id": "edac2e3d",
   "metadata": {},
   "outputs": [],
   "source": [
    "def is_curzon(n):\n",
    "    x = 2**n + 1\n",
    "    print(x)\n",
    "    y = 2*n + 1\n",
    "    print(y)\n",
    "    if x%y==0:\n",
    "        return True\n",
    "    else:\n",
    "        return False"
   ]
  },
  {
   "cell_type": "code",
   "execution_count": 28,
   "id": "ad734984",
   "metadata": {},
   "outputs": [
    {
     "name": "stdout",
     "output_type": "stream",
     "text": [
      "33\n",
      "11\n"
     ]
    },
    {
     "data": {
      "text/plain": [
       "True"
      ]
     },
     "execution_count": 28,
     "metadata": {},
     "output_type": "execute_result"
    }
   ],
   "source": [
    "is_curzon(5)"
   ]
  },
  {
   "cell_type": "code",
   "execution_count": 29,
   "id": "0af183ba",
   "metadata": {},
   "outputs": [
    {
     "name": "stdout",
     "output_type": "stream",
     "text": [
      "1025\n",
      "21\n"
     ]
    },
    {
     "data": {
      "text/plain": [
       "False"
      ]
     },
     "execution_count": 29,
     "metadata": {},
     "output_type": "execute_result"
    }
   ],
   "source": [
    "is_curzon(10)"
   ]
  },
  {
   "cell_type": "code",
   "execution_count": 30,
   "id": "e313e5a0",
   "metadata": {},
   "outputs": [
    {
     "name": "stdout",
     "output_type": "stream",
     "text": [
      "16385\n",
      "29\n"
     ]
    },
    {
     "data": {
      "text/plain": [
       "True"
      ]
     },
     "execution_count": 30,
     "metadata": {},
     "output_type": "execute_result"
    }
   ],
   "source": [
    "is_curzon(14)"
   ]
  },
  {
   "cell_type": "markdown",
   "id": "21b5170d",
   "metadata": {},
   "source": [
    "# Question 4.\n",
    "Given the side length x find the area of a hexagon.\n",
    "\n",
    "Examples\n",
    "\n",
    "area_of_hexagon(1) ➞ 2.6\n",
    "\n",
    "area_of_hexagon(2) ➞ 10.4\n",
    "\n",
    "area_of_hexagon(3) ➞ 23.4"
   ]
  },
  {
   "cell_type": "code",
   "execution_count": 36,
   "id": "b6e03b53",
   "metadata": {},
   "outputs": [],
   "source": [
    "def area(length):\n",
    "    return round((3*math.sqrt(3)*length**2)/2,1)"
   ]
  },
  {
   "cell_type": "code",
   "execution_count": 37,
   "id": "be3fffca",
   "metadata": {},
   "outputs": [
    {
     "data": {
      "text/plain": [
       "2.6"
      ]
     },
     "execution_count": 37,
     "metadata": {},
     "output_type": "execute_result"
    }
   ],
   "source": [
    "area(1)"
   ]
  },
  {
   "cell_type": "markdown",
   "id": "d2f177c4",
   "metadata": {},
   "source": [
    "# Question 5.\n",
    "Create a function that returns a base-2 (binary) representation of a base-10\n",
    "\n",
    "(decimal) string number. To convert is simple: ((2) means base-2 and (10) means base-10)\n",
    "\n",
    "010101001(2) = 1 + 8 + 32 + 128.\n",
    "\n",
    "Going from right to left, the value of the most right bit is 1, now from that every bit to the left\n",
    "will be x2 the value, value of an 8 bit binary numbers are (256, 128, 64, 32, 16, 8, 4, 2, 1).\n",
    "Examples\n",
    "binary(1) ➞ &quot;1&quot;\n",
    "### 1*1 = 1\n",
    "binary(5) ➞ &quot;101&quot;\n",
    "### 1*1 + 1*4 = 5\n",
    "binary(10) ➞ &quot;1010&quot;\n",
    "### 1*2 + 1*8 = 10"
   ]
  },
  {
   "cell_type": "code",
   "execution_count": 55,
   "id": "6be0efac",
   "metadata": {},
   "outputs": [],
   "source": [
    "def binary(n):\n",
    "    remainder = ''\n",
    "    while n>0:\n",
    "        rem = n%2\n",
    "        remainder = remainder +str(rem)\n",
    "        quotient= int(n/2)\n",
    "        n = quotient\n",
    "    return int(remainder[::-1])\n",
    "    "
   ]
  },
  {
   "cell_type": "code",
   "execution_count": 56,
   "id": "e5fd19d0",
   "metadata": {},
   "outputs": [
    {
     "data": {
      "text/plain": [
       "101"
      ]
     },
     "execution_count": 56,
     "metadata": {},
     "output_type": "execute_result"
    }
   ],
   "source": [
    "binary(5)"
   ]
  },
  {
   "cell_type": "code",
   "execution_count": 57,
   "id": "1ab391f3",
   "metadata": {},
   "outputs": [
    {
     "data": {
      "text/plain": [
       "1010"
      ]
     },
     "execution_count": 57,
     "metadata": {},
     "output_type": "execute_result"
    }
   ],
   "source": [
    "binary(10)"
   ]
  },
  {
   "cell_type": "code",
   "execution_count": 58,
   "id": "b1913f4e",
   "metadata": {},
   "outputs": [
    {
     "data": {
      "text/plain": [
       "1"
      ]
     },
     "execution_count": 58,
     "metadata": {},
     "output_type": "execute_result"
    }
   ],
   "source": [
    "binary(1)"
   ]
  }
 ],
 "metadata": {
  "kernelspec": {
   "display_name": "Python 3 (ipykernel)",
   "language": "python",
   "name": "python3"
  },
  "language_info": {
   "codemirror_mode": {
    "name": "ipython",
    "version": 3
   },
   "file_extension": ".py",
   "mimetype": "text/x-python",
   "name": "python",
   "nbconvert_exporter": "python",
   "pygments_lexer": "ipython3",
   "version": "3.10.9"
  }
 },
 "nbformat": 4,
 "nbformat_minor": 5
}
