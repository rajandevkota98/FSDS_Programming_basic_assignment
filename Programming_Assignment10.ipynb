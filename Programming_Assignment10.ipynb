{
 "cells": [
  {
   "cell_type": "markdown",
   "id": "bb339e19",
   "metadata": {},
   "source": [
    "1.Write a Python program to find sum of elements in list?"
   ]
  },
  {
   "cell_type": "code",
   "execution_count": 1,
   "id": "435e9ab7",
   "metadata": {},
   "outputs": [],
   "source": [
    "def sum(l):\n",
    "    sum = 0\n",
    "    for i in l:\n",
    "        sum = sum + i\n",
    "    return  sum"
   ]
  },
  {
   "cell_type": "code",
   "execution_count": 2,
   "id": "94035b16",
   "metadata": {},
   "outputs": [
    {
     "data": {
      "text/plain": [
       "15"
      ]
     },
     "execution_count": 2,
     "metadata": {},
     "output_type": "execute_result"
    }
   ],
   "source": [
    "sum([1,2,3,4,5])"
   ]
  },
  {
   "cell_type": "markdown",
   "id": "ea136553",
   "metadata": {},
   "source": [
    "2.Write a Python program to  Multiply all numbers in the list?"
   ]
  },
  {
   "cell_type": "code",
   "execution_count": 24,
   "id": "d6e0e03d",
   "metadata": {},
   "outputs": [],
   "source": [
    "def mul(l):\n",
    "    mul = 1\n",
    "    for i in l:\n",
    "        mul = mul*i\n",
    "    return mul"
   ]
  },
  {
   "cell_type": "code",
   "execution_count": 25,
   "id": "11110363",
   "metadata": {},
   "outputs": [
    {
     "data": {
      "text/plain": [
       "120"
      ]
     },
     "execution_count": 25,
     "metadata": {},
     "output_type": "execute_result"
    }
   ],
   "source": [
    "mul([1,2,3,4,5])"
   ]
  },
  {
   "cell_type": "markdown",
   "id": "77fa7053",
   "metadata": {},
   "source": [
    "3.Write a Python program to find smallest number in a list?"
   ]
  },
  {
   "cell_type": "code",
   "execution_count": 26,
   "id": "949b1ccf",
   "metadata": {},
   "outputs": [],
   "source": [
    "def smallest_num(l):\n",
    "    return min(l)"
   ]
  },
  {
   "cell_type": "code",
   "execution_count": 27,
   "id": "3e263e6f",
   "metadata": {},
   "outputs": [
    {
     "data": {
      "text/plain": [
       "1"
      ]
     },
     "execution_count": 27,
     "metadata": {},
     "output_type": "execute_result"
    }
   ],
   "source": [
    "smallest_num([1,2,3])"
   ]
  },
  {
   "cell_type": "markdown",
   "id": "6d044d06",
   "metadata": {},
   "source": [
    "4.Write a Python program to find largest number in a list?"
   ]
  },
  {
   "cell_type": "code",
   "execution_count": 32,
   "id": "77b0f8f0",
   "metadata": {},
   "outputs": [],
   "source": [
    "def largest_num(l):\n",
    "    return max(l)"
   ]
  },
  {
   "cell_type": "code",
   "execution_count": 33,
   "id": "674c14e5",
   "metadata": {},
   "outputs": [
    {
     "data": {
      "text/plain": [
       "3"
      ]
     },
     "execution_count": 33,
     "metadata": {},
     "output_type": "execute_result"
    }
   ],
   "source": [
    "largest_num([1,2,3])"
   ]
  },
  {
   "cell_type": "markdown",
   "id": "2f7dd6fc",
   "metadata": {},
   "source": [
    "5.Write a Python program to find second largest number in a list?"
   ]
  },
  {
   "cell_type": "code",
   "execution_count": 3,
   "id": "02ed8868",
   "metadata": {},
   "outputs": [],
   "source": [
    "def second_largest(l):\n",
    "    l.sort()\n",
    "    return l[-2]\n",
    "        "
   ]
  },
  {
   "cell_type": "code",
   "execution_count": 8,
   "id": "31607ec3",
   "metadata": {},
   "outputs": [
    {
     "data": {
      "text/plain": [
       "4"
      ]
     },
     "execution_count": 8,
     "metadata": {},
     "output_type": "execute_result"
    }
   ],
   "source": [
    "second_largest([0,-1,2,3,4,5,-2])"
   ]
  },
  {
   "cell_type": "markdown",
   "id": "064384a6",
   "metadata": {},
   "source": [
    "6. Write a Python program to find N largest elements from a list?"
   ]
  },
  {
   "cell_type": "code",
   "execution_count": 9,
   "id": "93c0256a",
   "metadata": {},
   "outputs": [],
   "source": [
    "def N_largest_num(l,N):\n",
    "    l.sort()\n",
    "    return l[-N]"
   ]
  },
  {
   "cell_type": "code",
   "execution_count": 11,
   "id": "48de6551",
   "metadata": {},
   "outputs": [
    {
     "data": {
      "text/plain": [
       "2"
      ]
     },
     "execution_count": 11,
     "metadata": {},
     "output_type": "execute_result"
    }
   ],
   "source": [
    "N_largest_num([1,2,3,4,5],4)"
   ]
  },
  {
   "cell_type": "markdown",
   "id": "881a4f47",
   "metadata": {},
   "source": [
    "7.Write a Python program to print even numbers in a list?"
   ]
  },
  {
   "cell_type": "code",
   "execution_count": 39,
   "id": "36feedd0",
   "metadata": {},
   "outputs": [],
   "source": [
    "def even_filter(l):\n",
    "    even_list = []\n",
    "    for i in l:\n",
    "        if i%2 == 0:\n",
    "            even_list.append(i)\n",
    "    return even_list"
   ]
  },
  {
   "cell_type": "code",
   "execution_count": 40,
   "id": "6c4ba176",
   "metadata": {},
   "outputs": [
    {
     "data": {
      "text/plain": [
       "[2, 4, 2]"
      ]
     },
     "execution_count": 40,
     "metadata": {},
     "output_type": "execute_result"
    }
   ],
   "source": [
    "even_filter([1,2,3,4,1,2])"
   ]
  },
  {
   "cell_type": "markdown",
   "id": "47441e8a",
   "metadata": {},
   "source": [
    "8.Write a Python program to print odd numbers in a List?"
   ]
  },
  {
   "cell_type": "code",
   "execution_count": 41,
   "id": "35a5a276",
   "metadata": {},
   "outputs": [],
   "source": [
    "def odd_filter(l):\n",
    "    odd_list = []\n",
    "    for i in l:\n",
    "        if i%2 != 0:\n",
    "            odd_list.append(i)\n",
    "    return odd_list"
   ]
  },
  {
   "cell_type": "code",
   "execution_count": 42,
   "id": "0f086d13",
   "metadata": {},
   "outputs": [
    {
     "data": {
      "text/plain": [
       "[1, 3, 1]"
      ]
     },
     "execution_count": 42,
     "metadata": {},
     "output_type": "execute_result"
    }
   ],
   "source": [
    "odd_filter([1,2,3,4,1,2])"
   ]
  },
  {
   "cell_type": "markdown",
   "id": "75bbeaf7",
   "metadata": {},
   "source": [
    "9.Write a Python program to Remove empty List from List?"
   ]
  },
  {
   "cell_type": "code",
   "execution_count": 53,
   "id": "af1636b0",
   "metadata": {},
   "outputs": [],
   "source": [
    "def remove_empty_list(l):\n",
    "    new_list = []\n",
    "    for i in l:\n",
    "        if len(i)!=0:\n",
    "            new_list.append(i)\n",
    "    return new_list"
   ]
  },
  {
   "cell_type": "code",
   "execution_count": 54,
   "id": "1b96fd88",
   "metadata": {},
   "outputs": [
    {
     "data": {
      "text/plain": [
       "[[1, 2, 3], [1, 2], [1, 2]]"
      ]
     },
     "execution_count": 54,
     "metadata": {},
     "output_type": "execute_result"
    }
   ],
   "source": [
    "remove_empty_list([[1,2,3],[1,2],[],[],[1,2]])"
   ]
  },
  {
   "cell_type": "markdown",
   "id": "6bfcbaaa",
   "metadata": {},
   "source": [
    "10.Write a Python program to Cloning or Copying a list?"
   ]
  },
  {
   "cell_type": "code",
   "execution_count": 12,
   "id": "f46992ac",
   "metadata": {},
   "outputs": [],
   "source": [
    "def copy_list(x):\n",
    "    cloned_list =[]\n",
    "    for i in x:\n",
    "        cloned_list.append(i)\n",
    "    return cloned_list"
   ]
  },
  {
   "cell_type": "code",
   "execution_count": 13,
   "id": "c14482dd",
   "metadata": {},
   "outputs": [
    {
     "data": {
      "text/plain": [
       "[1, 2, 3]"
      ]
     },
     "execution_count": 13,
     "metadata": {},
     "output_type": "execute_result"
    }
   ],
   "source": [
    "copy_list([1,2,3])"
   ]
  },
  {
   "cell_type": "markdown",
   "id": "f3b6fa29",
   "metadata": {},
   "source": [
    "10.Write a Python program to Count occurrences of an element in a list?"
   ]
  },
  {
   "cell_type": "code",
   "execution_count": 21,
   "id": "7c844a12",
   "metadata": {},
   "outputs": [],
   "source": [
    "def count_occurence(l):\n",
    "    dict_count = dict()\n",
    "    for i in l:\n",
    "        if i not in dict_count:\n",
    "            dict_count[i] = 1\n",
    "        else:\n",
    "            dict_count[i] = dict_count[i]+1\n",
    "    return dict_count"
   ]
  },
  {
   "cell_type": "code",
   "execution_count": 24,
   "id": "7772d944",
   "metadata": {},
   "outputs": [
    {
     "data": {
      "text/plain": [
       "{1: 1, 2: 1, 3: 2, 'A': 2}"
      ]
     },
     "execution_count": 24,
     "metadata": {},
     "output_type": "execute_result"
    }
   ],
   "source": [
    "count_occurence([1,2,3,3,'A','A'])"
   ]
  }
 ],
 "metadata": {
  "kernelspec": {
   "display_name": "Python 3",
   "language": "python",
   "name": "python3"
  },
  "language_info": {
   "codemirror_mode": {
    "name": "ipython",
    "version": 3
   },
   "file_extension": ".py",
   "mimetype": "text/x-python",
   "name": "python",
   "nbconvert_exporter": "python",
   "pygments_lexer": "ipython3",
   "version": "3.9.12"
  }
 },
 "nbformat": 4,
 "nbformat_minor": 5
}
