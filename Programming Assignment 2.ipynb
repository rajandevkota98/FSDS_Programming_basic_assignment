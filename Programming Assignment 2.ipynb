{
 "cells": [
  {
   "cell_type": "markdown",
   "id": "81d1b95a",
   "metadata": {},
   "source": [
    "# 1 Write a Python program to convert kilometers to miles?"
   ]
  },
  {
   "cell_type": "code",
   "execution_count": 16,
   "id": "e9846d29",
   "metadata": {},
   "outputs": [
    {
     "name": "stdout",
     "output_type": "stream",
     "text": [
      "Enter the value of kilometer1\n",
      "0.621371\n",
      "The conversion of 1.000000 KM is 0.621371 Miles \n"
     ]
    }
   ],
   "source": [
    "kilometer_value = float(input(\"Enter the value of kilometer\"))\n",
    "miles_value = kilometer_value * 0.621371\n",
    "# print(miles_value)\n",
    "print('The conversion of %f KM is %f Miles '%(kilometer_value,miles_value))"
   ]
  },
  {
   "cell_type": "markdown",
   "id": "d25be337",
   "metadata": {},
   "source": [
    "# 2. Write a Python program to convert Celsius to Fahrenheit?"
   ]
  },
  {
   "cell_type": "code",
   "execution_count": 24,
   "id": "652d8f72",
   "metadata": {},
   "outputs": [
    {
     "name": "stdout",
     "output_type": "stream",
     "text": [
      "Enter the value of Celcius temperature1\n",
      "1.000000 degree Celcius is 33.800000 degree fahrenheit\n"
     ]
    }
   ],
   "source": [
    "celcius_temp = float(input(\"Enter the value of Celcius temperature\"))\n",
    "fahrenheit_temp = celcius_temp * 9/5 + 32\n",
    "print(\"%f degree Celcius is %f degree fahrenheit\"%(celcius_temp,fahrenheit_temp))"
   ]
  },
  {
   "cell_type": "markdown",
   "id": "1470eb42",
   "metadata": {},
   "source": [
    "# 3. Write a Python program to display calendar?"
   ]
  },
  {
   "cell_type": "code",
   "execution_count": 31,
   "id": "70c0c1cf",
   "metadata": {},
   "outputs": [
    {
     "name": "stdout",
     "output_type": "stream",
     "text": [
      "Enter required year2022\n",
      "enter the month1\n",
      "    January 2022\n",
      "Mo Tu We Th Fr Sa Su\n",
      "                1  2\n",
      " 3  4  5  6  7  8  9\n",
      "10 11 12 13 14 15 16\n",
      "17 18 19 20 21 22 23\n",
      "24 25 26 27 28 29 30\n",
      "31\n",
      "\n"
     ]
    }
   ],
   "source": [
    "import calendar\n",
    "#print(calendar.month(2020,1))\n",
    "year= int(input('Enter required year'))\n",
    "month = int(input(\"enter the month\"))\n",
    "print(calendar.month(year,month))"
   ]
  },
  {
   "cell_type": "markdown",
   "id": "28ec5242",
   "metadata": {},
   "source": [
    "# 4. Write a Python program to solve quadratic equation?"
   ]
  },
  {
   "cell_type": "code",
   "execution_count": 68,
   "id": "536e9e90",
   "metadata": {},
   "outputs": [
    {
     "name": "stdout",
     "output_type": "stream",
     "text": [
      "Enter the value of a,b,c,d of quadratic equation1 4 4\n",
      "0\n",
      "Roots are real and same\n",
      "-2.0\n"
     ]
    }
   ],
   "source": [
    "import math\n",
    "a,b,c= input(\"Enter the value of a,b,c,d of quadratic equation\").split()\n",
    "a = int(a)\n",
    "b = int(b)\n",
    "c = int(c)\n",
    "d = b * b - 4 * a *c\n",
    "\n",
    "sqrt_d = math.sqrt(abs(d))\n",
    "print(d)\n",
    "if d < 0:\n",
    "    print(\"The root are complex\")\n",
    "    print(\"The root od quadratic equations are :\")\n",
    "    print(- b / (2*a), \" + i\", sqrt_d)\n",
    "    print(- b / (2*a), \" - i\", sqrt_d)\n",
    "elif d > 0:\n",
    "    print(\"Roots are real and different \")\n",
    "    print((-b + sqrt_d)/(2 * a))\n",
    "    print((-b - sqrt_d)/(2 * a))\n",
    "else:\n",
    "    print(\"Roots are real and same\")\n",
    "    print(-b / (2*a))\n"
   ]
  },
  {
   "cell_type": "markdown",
   "id": "29647004",
   "metadata": {},
   "source": [
    "# 5. Write a Python program to swap two variables without temp variable?"
   ]
  },
  {
   "cell_type": "code",
   "execution_count": 71,
   "id": "8f4170aa",
   "metadata": {},
   "outputs": [],
   "source": [
    "x = 5\n",
    "y = 6\n",
    "#swapping\n",
    "x,y = y,x"
   ]
  },
  {
   "cell_type": "code",
   "execution_count": 72,
   "id": "7f361e3c",
   "metadata": {},
   "outputs": [
    {
     "data": {
      "text/plain": [
       "6"
      ]
     },
     "execution_count": 72,
     "metadata": {},
     "output_type": "execute_result"
    }
   ],
   "source": [
    "x"
   ]
  },
  {
   "cell_type": "code",
   "execution_count": 73,
   "id": "d50833d6",
   "metadata": {},
   "outputs": [
    {
     "data": {
      "text/plain": [
       "5"
      ]
     },
     "execution_count": 73,
     "metadata": {},
     "output_type": "execute_result"
    }
   ],
   "source": [
    "y"
   ]
  },
  {
   "cell_type": "code",
   "execution_count": null,
   "id": "5342b92c",
   "metadata": {},
   "outputs": [],
   "source": []
  }
 ],
 "metadata": {
  "kernelspec": {
   "display_name": "Python 3",
   "language": "python",
   "name": "python3"
  },
  "language_info": {
   "codemirror_mode": {
    "name": "ipython",
    "version": 3
   },
   "file_extension": ".py",
   "mimetype": "text/x-python",
   "name": "python",
   "nbconvert_exporter": "python",
   "pygments_lexer": "ipython3",
   "version": "3.9.12"
  }
 },
 "nbformat": 4,
 "nbformat_minor": 5
}
