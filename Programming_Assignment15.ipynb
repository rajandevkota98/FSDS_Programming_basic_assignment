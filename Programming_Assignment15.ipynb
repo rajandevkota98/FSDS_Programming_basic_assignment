{
 "cells": [
  {
   "cell_type": "markdown",
   "id": "5a8fd8a8",
   "metadata": {},
   "source": [
    "# Question 1:\n",
    "    \n",
    "Please write a program using generator to print the numbers which can be divisible by 5 and\n",
    "7 between 0 and n in comma separated form while n is input by console.\n",
    "\n",
    "Example\n",
    "\n",
    "If the following n is given as input to the program:\n",
    "100\n",
    "\n",
    "Then, the output of the program should be:\n",
    "0,35,70"
   ]
  },
  {
   "cell_type": "code",
   "execution_count": 1,
   "id": "5d90cd5a",
   "metadata": {},
   "outputs": [],
   "source": [
    "def generate_divisible_by_5_7(n):\n",
    "    for i in range(0,n):\n",
    "        if i%5 ==0 and i%7==0:\n",
    "            yield i"
   ]
  },
  {
   "cell_type": "code",
   "execution_count": 4,
   "id": "0b8612b3",
   "metadata": {},
   "outputs": [],
   "source": [
    "x = generate_divisible_by_5_7(100)\n",
    "result = (\",\".join(str(i) for i in x))\n",
    "    "
   ]
  },
  {
   "cell_type": "code",
   "execution_count": 7,
   "id": "a0dfc531",
   "metadata": {},
   "outputs": [
    {
     "data": {
      "text/plain": [
       "'0,35,70'"
      ]
     },
     "execution_count": 7,
     "metadata": {},
     "output_type": "execute_result"
    }
   ],
   "source": [
    "result"
   ]
  },
  {
   "cell_type": "markdown",
   "id": "cbf55602",
   "metadata": {},
   "source": [
    "# Question 2:\n",
    "    \n",
    "Please write a program using generator to print the even numbers between 0 and n in comma\n",
    "separated form while n is input by console.\n",
    "\n",
    "Example:\n",
    "    \n",
    "If the following n is given as input to the program:\n",
    "10\n",
    "\n",
    "Then, the output of the program should be:\n",
    "0,2,4,6,8,10"
   ]
  },
  {
   "cell_type": "code",
   "execution_count": 11,
   "id": "eddafea6",
   "metadata": {},
   "outputs": [],
   "source": [
    "def even_number(n):\n",
    "    for i in range(0,n+1):\n",
    "        if i%2 ==0:\n",
    "            yield i"
   ]
  },
  {
   "cell_type": "code",
   "execution_count": 12,
   "id": "b80ebe13",
   "metadata": {},
   "outputs": [
    {
     "name": "stdout",
     "output_type": "stream",
     "text": [
      "Enter the number10\n",
      "0,2,4,6,8,10\n"
     ]
    }
   ],
   "source": [
    "n = int(input('Enter the number'))\n",
    "\n",
    "x = even_number(n)\n",
    "result = (\",\".join(str(i) for i in x))\n",
    "print(result)"
   ]
  },
  {
   "cell_type": "markdown",
   "id": "cdb5444e",
   "metadata": {},
   "source": [
    "# Question 3:\n",
    "    \n",
    "The Fibonacci Sequence is computed based on the following formula:\n",
    "    \n",
    "f(n)=0 if n=0\n",
    "\n",
    "f(n)=1 if n=1\n",
    "\n",
    "f(n)=f(n-1)+f(n-2) if n&gt;1\n",
    "\n",
    "Please write a program using list comprehension to print the Fibonacci Sequence in comma\n",
    "separated form with a given n input by console.\n",
    "\n",
    "Example:\n",
    "    \n",
    "If the following n is given as input to the program:\n",
    "7\n",
    "\n",
    "Then, the output of the program should be:\n",
    "0,1,1,2,3,5,8,13"
   ]
  },
  {
   "cell_type": "code",
   "execution_count": 40,
   "id": "77a887c7",
   "metadata": {},
   "outputs": [],
   "source": [
    "def fibonaci_sequence(n):\n",
    "    if n == 0:\n",
    "        return 0\n",
    "    elif n==1:\n",
    "        return 1\n",
    "    else:\n",
    "         return fibonaci_sequence(n-1) +fibonaci_sequence(n-2)"
   ]
  },
  {
   "cell_type": "code",
   "execution_count": 43,
   "id": "625b901c",
   "metadata": {},
   "outputs": [
    {
     "name": "stdout",
     "output_type": "stream",
     "text": [
      "Enter the number7\n",
      "[0, 1, 1, 2, 3, 5, 8, 13]\n"
     ]
    }
   ],
   "source": [
    "input_num = int(input('Enter the number'))\n",
    "value = [fibonaci_sequence(i) for i in range (0,input_num+1)]   \n",
    "print(value)"
   ]
  },
  {
   "cell_type": "markdown",
   "id": "ee0259e0",
   "metadata": {},
   "source": [
    "# Question 4:\n",
    "    \n",
    "Assuming that we have some email addresses in the &quot;username@companyname.com&quot; format,\n",
    "please write program to print the user name of a given email address. Both user names and\n",
    "company names are composed of letters only.\n",
    "\n",
    "Example:\n",
    "    \n",
    "If the following email address is given as input to the program:\n",
    "    \n",
    "john@google.com\n",
    "\n",
    "Then, the output of the program should be:\n",
    "    \n",
    "john"
   ]
  },
  {
   "cell_type": "code",
   "execution_count": 50,
   "id": "46503bb6",
   "metadata": {},
   "outputs": [],
   "source": [
    "def return_name(email):\n",
    "    name = email.split('@')[0]\n",
    "    return name\n"
   ]
  },
  {
   "cell_type": "code",
   "execution_count": 51,
   "id": "62067b18",
   "metadata": {},
   "outputs": [
    {
     "data": {
      "text/plain": [
       "'john'"
      ]
     },
     "execution_count": 51,
     "metadata": {},
     "output_type": "execute_result"
    }
   ],
   "source": [
    "return_name('john@google.com')"
   ]
  },
  {
   "cell_type": "markdown",
   "id": "32b87655",
   "metadata": {},
   "source": [
    "# Question 5:\n",
    "    \n",
    "Define a class named Shape and its subclass Square. The Square class has an init function\n",
    "\n",
    "which takes a length as argument. Both classes have a area function which can print the area\n",
    "\n",
    "of the shape where Shape&#39;s area is 0 by default."
   ]
  },
  {
   "cell_type": "code",
   "execution_count": 76,
   "id": "798ac6fe",
   "metadata": {},
   "outputs": [],
   "source": [
    "class Shape:\n",
    "    def __init__(self):\n",
    "        pass\n",
    "    \n",
    "    def area(self):\n",
    "        return 0\n",
    "\n",
    "class Square(Shape):\n",
    "    def __init__(self, length):\n",
    "        self.length = length\n",
    "    \n",
    "    def area(self):\n",
    "        return self.length ** 2\n"
   ]
  },
  {
   "cell_type": "code",
   "execution_count": 82,
   "id": "9d67c0a7",
   "metadata": {},
   "outputs": [],
   "source": [
    "X = Square(5)"
   ]
  },
  {
   "cell_type": "code",
   "execution_count": 83,
   "id": "9d9d2b4a",
   "metadata": {},
   "outputs": [
    {
     "data": {
      "text/plain": [
       "25"
      ]
     },
     "execution_count": 83,
     "metadata": {},
     "output_type": "execute_result"
    }
   ],
   "source": [
    "X.area()"
   ]
  },
  {
   "cell_type": "code",
   "execution_count": 84,
   "id": "7ca6df3d",
   "metadata": {},
   "outputs": [],
   "source": [
    "X = Shape()"
   ]
  },
  {
   "cell_type": "code",
   "execution_count": 85,
   "id": "7ee93f97",
   "metadata": {},
   "outputs": [
    {
     "data": {
      "text/plain": [
       "0"
      ]
     },
     "execution_count": 85,
     "metadata": {},
     "output_type": "execute_result"
    }
   ],
   "source": [
    "x.area()"
   ]
  }
 ],
 "metadata": {
  "kernelspec": {
   "display_name": "Python 3 (ipykernel)",
   "language": "python",
   "name": "python3"
  },
  "language_info": {
   "codemirror_mode": {
    "name": "ipython",
    "version": 3
   },
   "file_extension": ".py",
   "mimetype": "text/x-python",
   "name": "python",
   "nbconvert_exporter": "python",
   "pygments_lexer": "ipython3",
   "version": "3.10.9"
  }
 },
 "nbformat": 4,
 "nbformat_minor": 5
}
