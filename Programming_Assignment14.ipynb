{
 "cells": [
  {
   "cell_type": "markdown",
   "id": "c4edc935",
   "metadata": {},
   "source": [
    "# Question 1:\n",
    "    \n",
    "Define a class with a generator which can iterate the numbers, which are divisible by 7, between a given range 0 and n."
   ]
  },
  {
   "cell_type": "code",
   "execution_count": 1,
   "id": "a5bf1f70",
   "metadata": {},
   "outputs": [],
   "source": [
    "def divisible_by_7(n):\n",
    "    for i in range(0,n):\n",
    "        if i%7==0:\n",
    "            yield i"
   ]
  },
  {
   "cell_type": "code",
   "execution_count": 2,
   "id": "700f6f42",
   "metadata": {},
   "outputs": [
    {
     "data": {
      "text/plain": [
       "<generator object divisible_by_7 at 0x7fa164cc15b0>"
      ]
     },
     "execution_count": 2,
     "metadata": {},
     "output_type": "execute_result"
    }
   ],
   "source": [
    "divisible_by_7(100)"
   ]
  },
  {
   "cell_type": "code",
   "execution_count": 3,
   "id": "271f311d",
   "metadata": {},
   "outputs": [],
   "source": [
    "x = divisible_by_7(100)"
   ]
  },
  {
   "cell_type": "code",
   "execution_count": 4,
   "id": "306dae76",
   "metadata": {},
   "outputs": [
    {
     "data": {
      "text/plain": [
       "0"
      ]
     },
     "execution_count": 4,
     "metadata": {},
     "output_type": "execute_result"
    }
   ],
   "source": [
    "next(x)"
   ]
  },
  {
   "cell_type": "code",
   "execution_count": 5,
   "id": "5ab04c03",
   "metadata": {},
   "outputs": [
    {
     "data": {
      "text/plain": [
       "7"
      ]
     },
     "execution_count": 5,
     "metadata": {},
     "output_type": "execute_result"
    }
   ],
   "source": [
    "next(x)"
   ]
  },
  {
   "cell_type": "markdown",
   "id": "bb9b409a",
   "metadata": {},
   "source": [
    "# Question 2:\n",
    "    \n",
    "Write a program to compute the frequency of the words from the input. The output\n",
    "should output after sorting the key alphanumerically.\n",
    "\n",
    "Suppose the following input is supplied to the program:\n",
    "    \n",
    "New to Python or choosing between Python 2 and Python 3? Read Python 2 or\n",
    "Python 3.\n",
    "\n",
    "Then, the output should be:\n",
    "    \n",
    "2:2\n",
    "    \n",
    "3.:1\n",
    "    \n",
    "3?:1\n",
    "    \n",
    "New:1\n",
    "    \n",
    "Python:5\n",
    "    \n",
    "Read:1\n",
    "    \n",
    "and:1\n",
    "    \n",
    "between:1\n",
    "    \n",
    "choosing:1\n",
    "    \n",
    "or:2\n",
    "    \n",
    "to:1"
   ]
  },
  {
   "cell_type": "code",
   "execution_count": 11,
   "id": "dc8f2812",
   "metadata": {},
   "outputs": [
    {
     "name": "stdout",
     "output_type": "stream",
     "text": [
      "Enter the stringNew to Python or choosing between Python 2 and Python 3? Read Python 2 or Python 3.\n"
     ]
    }
   ],
   "source": [
    "input_string = input('Enter the string')\n",
    "input_string = input_string.split(' ')\n",
    "value = dict()\n",
    "new_dict = dict()\n",
    "for i in input_string:\n",
    "    if i not in value:\n",
    "        value[i] =1\n",
    "    else:\n",
    "        value[i] = value[i]+1\n",
    "for i in sorted(value):\n",
    "    new_dict[i] = value[i]"
   ]
  },
  {
   "cell_type": "code",
   "execution_count": 12,
   "id": "24c78cba",
   "metadata": {},
   "outputs": [
    {
     "data": {
      "text/plain": [
       "{'2': 2,\n",
       " '3.': 1,\n",
       " '3?': 1,\n",
       " 'New': 1,\n",
       " 'Python': 5,\n",
       " 'Read': 1,\n",
       " 'and': 1,\n",
       " 'between': 1,\n",
       " 'choosing': 1,\n",
       " 'or': 2,\n",
       " 'to': 1}"
      ]
     },
     "execution_count": 12,
     "metadata": {},
     "output_type": "execute_result"
    }
   ],
   "source": [
    "new_dict"
   ]
  },
  {
   "cell_type": "markdown",
   "id": "6b81adc2",
   "metadata": {},
   "source": [
    "# Question 3:\n",
    "\n",
    "Define a class Person and its two child classes: Male and Female. All classes have a\n",
    "method &quot;getGender&quot; which can print &quot;Male&quot; for Male class and &quot;Female&quot; for Female\n",
    "class."
   ]
  },
  {
   "cell_type": "code",
   "execution_count": 16,
   "id": "26a9aad6",
   "metadata": {},
   "outputs": [],
   "source": [
    "class Person:\n",
    "    def getGender(self):\n",
    "        return 'unknown'\n",
    "\n",
    "class Male(Person):\n",
    "    def getGender(self):\n",
    "        return 'Male'\n",
    "        \n",
    "class Female(Person):\n",
    "    def getGender(self):\n",
    "        return 'Female'\n",
    "        "
   ]
  },
  {
   "cell_type": "markdown",
   "id": "b60b1651",
   "metadata": {},
   "source": [
    "# Question 4:\n",
    "    \n",
    "Please write a program to generate all sentences where subject is in [&quot;I&quot;, &quot;You&quot;] and\n",
    "verb is in [&quot;Play&quot;, &quot;Love&quot;] and the object is in [&quot;Hockey&quot;,&quot;Football&quot;]."
   ]
  },
  {
   "cell_type": "code",
   "execution_count": 18,
   "id": "e75051dc",
   "metadata": {},
   "outputs": [],
   "source": [
    "sub = ['I', 'You']\n",
    "verb = ['Play', 'Love']\n",
    "objects = ['Hockey', 'Football']"
   ]
  },
  {
   "cell_type": "code",
   "execution_count": 27,
   "id": "684daa0d",
   "metadata": {},
   "outputs": [
    {
     "name": "stdout",
     "output_type": "stream",
     "text": [
      "I Play Hockey\n",
      "I Play Football\n",
      "I Love Hockey\n",
      "I Love Football\n",
      "You Play Hockey\n",
      "You Play Football\n",
      "You Love Hockey\n",
      "You Love Football\n"
     ]
    }
   ],
   "source": [
    "sentence = dict()\n",
    "for i in sub:\n",
    "    for j in verb:\n",
    "        for k in objects:\n",
    "            print(f\"{i} {j} {k}\")\n",
    "            "
   ]
  },
  {
   "cell_type": "markdown",
   "id": "d28a9be6",
   "metadata": {},
   "source": [
    "# Question 5:\n",
    "    \n",
    "Please write a program to compress and decompress the string &quot;hello world!hello\n",
    "world!hello world!hello world!&quot;."
   ]
  },
  {
   "cell_type": "code",
   "execution_count": 28,
   "id": "e31683b6",
   "metadata": {},
   "outputs": [],
   "source": [
    "import gzip\n",
    "\n",
    "original_string = \"hello world!hello world!hello world!hello world!\""
   ]
  },
  {
   "cell_type": "code",
   "execution_count": 29,
   "id": "bc95c560",
   "metadata": {},
   "outputs": [],
   "source": [
    "compressed_bytes = gzip.compress(original_string.encode('utf-8'))\n"
   ]
  },
  {
   "cell_type": "code",
   "execution_count": 30,
   "id": "654d8663",
   "metadata": {},
   "outputs": [
    {
     "data": {
      "text/plain": [
       "b'\\x1f\\x8b\\x08\\x007\\xbbUd\\x02\\xff\\xcbH\\xcd\\xc9\\xc9W(\\xcf/\\xcaIQ\\xcc \\x82\\r\\x00\\xd3\\xe6\\xcf\\xae0\\x00\\x00\\x00'"
      ]
     },
     "execution_count": 30,
     "metadata": {},
     "output_type": "execute_result"
    }
   ],
   "source": [
    "compressed_bytes"
   ]
  },
  {
   "cell_type": "code",
   "execution_count": 34,
   "id": "a0bda877",
   "metadata": {},
   "outputs": [],
   "source": [
    "decompress_string = gzip.decompress(compressed_bytes).decode('utf-8')"
   ]
  },
  {
   "cell_type": "code",
   "execution_count": 35,
   "id": "b488d73c",
   "metadata": {},
   "outputs": [
    {
     "data": {
      "text/plain": [
       "'hello world!hello world!hello world!hello world!'"
      ]
     },
     "execution_count": 35,
     "metadata": {},
     "output_type": "execute_result"
    }
   ],
   "source": [
    "decompress_string"
   ]
  },
  {
   "cell_type": "markdown",
   "id": "bf2eaae6",
   "metadata": {},
   "source": [
    "# Question 6:\n",
    "    \n",
    "Please write a binary search function which searches an item in a sorted list. The\n",
    "function should return the index of element to be searched in the list."
   ]
  },
  {
   "cell_type": "code",
   "execution_count": 36,
   "id": "b8aaf00c",
   "metadata": {},
   "outputs": [],
   "source": [
    "def binary_search(array, targtet):\n",
    "    lower = 0\n",
    "    upper = len(array)-1\n",
    "    while lower <=upper:\n",
    "        mid = (lower + upper)//2\n",
    "        if array[mid]==target:\n",
    "            return mid\n",
    "        elif array[mid]> target:\n",
    "            upper = mid -1\n",
    "        else:\n",
    "            lower = mid +1\n",
    "            \n",
    "    return -1"
   ]
  }
 ],
 "metadata": {
  "kernelspec": {
   "display_name": "Python 3 (ipykernel)",
   "language": "python",
   "name": "python3"
  },
  "language_info": {
   "codemirror_mode": {
    "name": "ipython",
    "version": 3
   },
   "file_extension": ".py",
   "mimetype": "text/x-python",
   "name": "python",
   "nbconvert_exporter": "python",
   "pygments_lexer": "ipython3",
   "version": "3.10.9"
  }
 },
 "nbformat": 4,
 "nbformat_minor": 5
}
