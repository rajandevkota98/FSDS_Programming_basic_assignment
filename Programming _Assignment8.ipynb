{
 "cells": [
  {
   "cell_type": "markdown",
   "id": "8dc249f2",
   "metadata": {},
   "source": [
    "1.Write a Python Program to Add Two Matrices?"
   ]
  },
  {
   "cell_type": "code",
   "execution_count": 41,
   "id": "22412501",
   "metadata": {},
   "outputs": [],
   "source": [
    "#using numpy library\n",
    "import numpy as np\n",
    "matA = np.array([[1,2,3],[2,4,3]])\n",
    "matB = np.array([[1,2,0],[2,4,0]])\n",
    "matC = matA + matB"
   ]
  },
  {
   "cell_type": "code",
   "execution_count": 43,
   "id": "3480b599",
   "metadata": {},
   "outputs": [
    {
     "data": {
      "text/plain": [
       "array([[2, 4, 3],\n",
       "       [4, 8, 3]])"
      ]
     },
     "execution_count": 43,
     "metadata": {},
     "output_type": "execute_result"
    }
   ],
   "source": [
    "matC"
   ]
  },
  {
   "cell_type": "markdown",
   "id": "29278635",
   "metadata": {},
   "source": [
    "2. Write a Python Program to Multiply Two Matrices?"
   ]
  },
  {
   "cell_type": "code",
   "execution_count": 46,
   "id": "b0cbd1a2",
   "metadata": {},
   "outputs": [],
   "source": [
    "import numpy as np\n",
    "matA = np.array([[1,2,3],[2,4,3]])\n",
    "matB = np.array([[1,2,0],[2,4,0]])\n",
    "matC = matA* matB"
   ]
  },
  {
   "cell_type": "code",
   "execution_count": 47,
   "id": "18978313",
   "metadata": {},
   "outputs": [
    {
     "data": {
      "text/plain": [
       "array([[ 1,  4,  0],\n",
       "       [ 4, 16,  0]])"
      ]
     },
     "execution_count": 47,
     "metadata": {},
     "output_type": "execute_result"
    }
   ],
   "source": [
    "matC"
   ]
  },
  {
   "cell_type": "markdown",
   "id": "73377858",
   "metadata": {},
   "source": [
    "Write a Python Program to Transpose a Matrix?"
   ]
  },
  {
   "cell_type": "code",
   "execution_count": 48,
   "id": "ea243afe",
   "metadata": {},
   "outputs": [
    {
     "data": {
      "text/plain": [
       "array([[1, 2],\n",
       "       [2, 4],\n",
       "       [3, 3]])"
      ]
     },
     "execution_count": 48,
     "metadata": {},
     "output_type": "execute_result"
    }
   ],
   "source": [
    "import numpy as np\n",
    "matA = np.array([[1,2,3],[2,4,3]])\n",
    "matA.T"
   ]
  },
  {
   "cell_type": "markdown",
   "id": "4ea1500b",
   "metadata": {},
   "source": [
    "Write a Python Program to Sort Words in Alphabetic Order?"
   ]
  },
  {
   "cell_type": "code",
   "execution_count": 108,
   "id": "71997f73",
   "metadata": {},
   "outputs": [],
   "source": [
    "def sort_aphabetically(sentence):\n",
    "    word_list = sentence.split(' ')\n",
    "    word_list.sort()\n",
    "    return word_list"
   ]
  },
  {
   "cell_type": "code",
   "execution_count": 109,
   "id": "65da5799",
   "metadata": {},
   "outputs": [
    {
     "data": {
      "text/plain": [
       "['aabui', 'bhanna', 'haha', 'k', 'maile', 'milxa', 'yar']"
      ]
     },
     "execution_count": 109,
     "metadata": {},
     "output_type": "execute_result"
    }
   ],
   "source": [
    "sort_aphabetically('haha maile k bhanna milxa yar aabui')"
   ]
  },
  {
   "cell_type": "markdown",
   "id": "0c63489b",
   "metadata": {},
   "source": [
    "Write a Python Program to Remove Punctuation From a String?"
   ]
  },
  {
   "cell_type": "code",
   "execution_count": 116,
   "id": "b81abdff",
   "metadata": {},
   "outputs": [],
   "source": [
    "def remove_punctuation(sentence):\n",
    "    punctuation_removed = sentence.replace('.', '')\n",
    "    return punctuation_removed"
   ]
  },
  {
   "cell_type": "code",
   "execution_count": 117,
   "id": "10aadf35",
   "metadata": {},
   "outputs": [
    {
     "data": {
      "text/plain": [
       "'haha maile k bhanna milxa yar aabui'"
      ]
     },
     "execution_count": 117,
     "metadata": {},
     "output_type": "execute_result"
    }
   ],
   "source": [
    "remove_punctuation('haha maile k bhanna milxa yar.... aabui')"
   ]
  }
 ],
 "metadata": {
  "kernelspec": {
   "display_name": "Python 3",
   "language": "python",
   "name": "python3"
  },
  "language_info": {
   "codemirror_mode": {
    "name": "ipython",
    "version": 3
   },
   "file_extension": ".py",
   "mimetype": "text/x-python",
   "name": "python",
   "nbconvert_exporter": "python",
   "pygments_lexer": "ipython3",
   "version": "3.9.12"
  }
 },
 "nbformat": 4,
 "nbformat_minor": 5
}
