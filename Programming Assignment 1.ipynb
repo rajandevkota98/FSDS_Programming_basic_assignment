{
 "cells": [
  {
   "cell_type": "markdown",
   "id": "9593cfee",
   "metadata": {},
   "source": [
    "# 1. Write a Python program to print &quot;Hello Python&quot;?"
   ]
  },
  {
   "cell_type": "code",
   "execution_count": 1,
   "id": "50ee86f0",
   "metadata": {},
   "outputs": [
    {
     "name": "stdout",
     "output_type": "stream",
     "text": [
      "Hello Python\n"
     ]
    }
   ],
   "source": [
    "print(\"Hello Python\") "
   ]
  },
  {
   "cell_type": "markdown",
   "id": "ff8f1a98",
   "metadata": {},
   "source": [
    "# 2. Write a Python program to do arithmetical operations addition and division.?"
   ]
  },
  {
   "cell_type": "code",
   "execution_count": 8,
   "id": "c103f511",
   "metadata": {},
   "outputs": [
    {
     "name": "stdout",
     "output_type": "stream",
     "text": [
      "Enter first number101\n",
      "Enter Second number122\n",
      "Enter 1 or addition, 2 for division7\n"
     ]
    }
   ],
   "source": [
    "#taking input from user\n",
    "\n",
    "input1 = int(input(\"Enter first number\"))\n",
    "input2 = int(input(\"Enter Second number\"))\n",
    "\n",
    "operation = int(input(\"Enter 1 or addition, 2 for division\"))\n",
    "if operation == 1:\n",
    "    addition = input1 + input2\n",
    "    print(\"The addition of %d and %d is\" %(input1, input2),addition)\n",
    "elif operation == 2:\n",
    "    division = input1 / input2\n",
    "    print(\"The division is\",division)\n",
    "else:\n",
    "    pass\n"
   ]
  },
  {
   "cell_type": "markdown",
   "id": "bddc0dad",
   "metadata": {},
   "source": [
    "# 3. Write a Python program to find the area of a triangle?"
   ]
  },
  {
   "cell_type": "code",
   "execution_count": 13,
   "id": "97e1d522",
   "metadata": {},
   "outputs": [
    {
     "name": "stdout",
     "output_type": "stream",
     "text": [
      "Enter the length of first side10\n",
      "Enter the length of second side10\n",
      "Enter the length of third side10\n",
      "The area of triangle with side 10,10,10 is  489.89794855663564\n"
     ]
    }
   ],
   "source": [
    "#lets find area of triangle using heron's formula\n",
    "\n",
    "import math\n",
    "a = int(input('Enter the length of first side'))\n",
    "b = int(input('Enter the length of second side'))\n",
    "c = int(input('Enter the length of third side'))\n",
    "s = (a + b + c)# calculating perimeter\n",
    "area = math.sqrt(s*(s-a)*(s-b)*(s-c))\n",
    "print(\"The area of triangle with sides %d,%d,%d is \"%(a,b,c) ,area )"
   ]
  },
  {
   "cell_type": "markdown",
   "id": "e615ee1c",
   "metadata": {},
   "source": [
    "# 4. Write a Python program to swap two variables?"
   ]
  },
  {
   "cell_type": "code",
   "execution_count": 17,
   "id": "74b593d6",
   "metadata": {},
   "outputs": [],
   "source": [
    "x = 0\n",
    "y = 10"
   ]
  },
  {
   "cell_type": "code",
   "execution_count": 18,
   "id": "4fdd0589",
   "metadata": {},
   "outputs": [],
   "source": [
    "x,y = y,x"
   ]
  },
  {
   "cell_type": "code",
   "execution_count": 19,
   "id": "fd819662",
   "metadata": {},
   "outputs": [
    {
     "name": "stdout",
     "output_type": "stream",
     "text": [
      "10\n"
     ]
    }
   ],
   "source": [
    "print(x)"
   ]
  },
  {
   "cell_type": "code",
   "execution_count": 20,
   "id": "2cc61fa1",
   "metadata": {},
   "outputs": [
    {
     "name": "stdout",
     "output_type": "stream",
     "text": [
      "0\n"
     ]
    }
   ],
   "source": [
    "print(y)"
   ]
  },
  {
   "cell_type": "markdown",
   "id": "16f35078",
   "metadata": {},
   "source": [
    "We swapped successfully."
   ]
  },
  {
   "cell_type": "code",
   "execution_count": 21,
   "id": "871ee167",
   "metadata": {},
   "outputs": [
    {
     "name": "stdout",
     "output_type": "stream",
     "text": [
      "Object `number` not found.\n"
     ]
    }
   ],
   "source": [
    "5. Write a Python program to generate a random number?"
   ]
  },
  {
   "cell_type": "markdown",
   "id": "974fba89",
   "metadata": {},
   "source": [
    "# 5. Write a Python program to generate a random number"
   ]
  },
  {
   "cell_type": "code",
   "execution_count": 24,
   "id": "3115db94",
   "metadata": {},
   "outputs": [],
   "source": [
    "import random\n",
    "n = random.random()"
   ]
  },
  {
   "cell_type": "code",
   "execution_count": 25,
   "id": "469a2918",
   "metadata": {},
   "outputs": [
    {
     "name": "stdout",
     "output_type": "stream",
     "text": [
      "0.37539247889445604\n"
     ]
    }
   ],
   "source": [
    "print(n)"
   ]
  }
 ],
 "metadata": {
  "kernelspec": {
   "display_name": "Python 3",
   "language": "python",
   "name": "python3"
  },
  "language_info": {
   "codemirror_mode": {
    "name": "ipython",
    "version": 3
   },
   "file_extension": ".py",
   "mimetype": "text/x-python",
   "name": "python",
   "nbconvert_exporter": "python",
   "pygments_lexer": "ipython3",
   "version": "3.9.12"
  }
 },
 "nbformat": 4,
 "nbformat_minor": 5
}
