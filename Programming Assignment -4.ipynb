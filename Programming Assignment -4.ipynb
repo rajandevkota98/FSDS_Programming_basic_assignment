{
 "cells": [
  {
   "cell_type": "markdown",
   "id": "295204c5",
   "metadata": {},
   "source": [
    "# Write a Python Program to Find the Factorial of a Number?"
   ]
  },
  {
   "cell_type": "code",
   "execution_count": null,
   "id": "2f117549",
   "metadata": {},
   "outputs": [],
   "source": [
    "x = int(input(\"Enter the number\"))\n",
    "multiply = 1\n",
    "for i in range(2,x+1):\n",
    "    multiply = multiply*i\n",
    "print(multiply)"
   ]
  },
  {
   "cell_type": "markdown",
   "id": "cc616bf6",
   "metadata": {},
   "source": [
    "# 2. Write a Python Program to Display the multiplication Table?"
   ]
  },
  {
   "cell_type": "code",
   "execution_count": 19,
   "id": "70ae1929",
   "metadata": {},
   "outputs": [
    {
     "name": "stdout",
     "output_type": "stream",
     "text": [
      "1 * 1 =  1\n",
      "1 * 2 =  2\n",
      "1 * 3 =  3\n",
      "1 * 4 =  4\n",
      "1 * 5 =  5\n",
      "1 * 6 =  6\n",
      "1 * 7 =  7\n",
      "1 * 8 =  8\n",
      "1 * 9 =  9\n",
      "----------------\n",
      "2 * 1 =  2\n",
      "2 * 2 =  4\n",
      "2 * 3 =  6\n",
      "2 * 4 =  8\n",
      "2 * 5 =  10\n",
      "2 * 6 =  12\n",
      "2 * 7 =  14\n",
      "2 * 8 =  16\n",
      "2 * 9 =  18\n",
      "----------------\n",
      "3 * 1 =  3\n",
      "3 * 2 =  6\n",
      "3 * 3 =  9\n",
      "3 * 4 =  12\n",
      "3 * 5 =  15\n",
      "3 * 6 =  18\n",
      "3 * 7 =  21\n",
      "3 * 8 =  24\n",
      "3 * 9 =  27\n",
      "----------------\n",
      "4 * 1 =  4\n",
      "4 * 2 =  8\n",
      "4 * 3 =  12\n",
      "4 * 4 =  16\n",
      "4 * 5 =  20\n",
      "4 * 6 =  24\n",
      "4 * 7 =  28\n",
      "4 * 8 =  32\n",
      "4 * 9 =  36\n",
      "----------------\n",
      "5 * 1 =  5\n",
      "5 * 2 =  10\n",
      "5 * 3 =  15\n",
      "5 * 4 =  20\n",
      "5 * 5 =  25\n",
      "5 * 6 =  30\n",
      "5 * 7 =  35\n",
      "5 * 8 =  40\n",
      "5 * 9 =  45\n",
      "----------------\n",
      "6 * 1 =  6\n",
      "6 * 2 =  12\n",
      "6 * 3 =  18\n",
      "6 * 4 =  24\n",
      "6 * 5 =  30\n",
      "6 * 6 =  36\n",
      "6 * 7 =  42\n",
      "6 * 8 =  48\n",
      "6 * 9 =  54\n",
      "----------------\n",
      "7 * 1 =  7\n",
      "7 * 2 =  14\n",
      "7 * 3 =  21\n",
      "7 * 4 =  28\n",
      "7 * 5 =  35\n",
      "7 * 6 =  42\n",
      "7 * 7 =  49\n",
      "7 * 8 =  56\n",
      "7 * 9 =  63\n",
      "----------------\n",
      "8 * 1 =  8\n",
      "8 * 2 =  16\n",
      "8 * 3 =  24\n",
      "8 * 4 =  32\n",
      "8 * 5 =  40\n",
      "8 * 6 =  48\n",
      "8 * 7 =  56\n",
      "8 * 8 =  64\n",
      "8 * 9 =  72\n",
      "----------------\n",
      "9 * 1 =  9\n",
      "9 * 2 =  18\n",
      "9 * 3 =  27\n",
      "9 * 4 =  36\n",
      "9 * 5 =  45\n",
      "9 * 6 =  54\n",
      "9 * 7 =  63\n",
      "9 * 8 =  72\n",
      "9 * 9 =  81\n",
      "----------------\n"
     ]
    }
   ],
   "source": [
    "for i in range(1,10):\n",
    "    for j in range(1,10):\n",
    "        print(i, \"*\", j,\"= \", i*j)\n",
    "    print(\"----------------\")"
   ]
  },
  {
   "cell_type": "markdown",
   "id": "363ab097",
   "metadata": {},
   "source": [
    "# 3. Write a Python Program to Print the Fibonacci sequence?"
   ]
  },
  {
   "cell_type": "code",
   "execution_count": 34,
   "id": "8daec735",
   "metadata": {},
   "outputs": [
    {
     "name": "stdout",
     "output_type": "stream",
     "text": [
      "Enter the nth term7\n",
      "0\n",
      "1\n",
      "1\n",
      "2\n",
      "3\n",
      "5\n"
     ]
    }
   ],
   "source": [
    "n = int(input(\"Enter the nth term\"))\n",
    "first = 0\n",
    "second = 1\n",
    "for i in range(1,n):\n",
    "    print(first)\n",
    "    first,second = second, first+second\n",
    "    \n"
   ]
  },
  {
   "cell_type": "markdown",
   "id": "74f5586e",
   "metadata": {},
   "source": [
    "# 4.Write a Python Program to Check Armstrong Number?"
   ]
  },
  {
   "cell_type": "code",
   "execution_count": 76,
   "id": "4b6cf038",
   "metadata": {},
   "outputs": [
    {
     "name": "stdout",
     "output_type": "stream",
     "text": [
      "Enter the number371\n"
     ]
    }
   ],
   "source": [
    "x = int(input(\"Enter the number\"))"
   ]
  },
  {
   "cell_type": "code",
   "execution_count": 85,
   "id": "9158160c",
   "metadata": {},
   "outputs": [],
   "source": [
    "length = len(str(x))"
   ]
  },
  {
   "cell_type": "code",
   "execution_count": 80,
   "id": "6c54ce21",
   "metadata": {},
   "outputs": [],
   "source": [
    "numlist = []\n",
    "copy = x\n",
    "while copy>0:\n",
    "    resrem = copy%10\n",
    "    copy = int(copy/10)\n",
    "    numlist.append(resrem)"
   ]
  },
  {
   "cell_type": "code",
   "execution_count": 81,
   "id": "9f1fd4be",
   "metadata": {},
   "outputs": [],
   "source": [
    "numlist\n",
    "sum = 0"
   ]
  },
  {
   "cell_type": "code",
   "execution_count": 82,
   "id": "23a1dc7b",
   "metadata": {},
   "outputs": [],
   "source": [
    "for i in numlist:\n",
    "    sum = sum + i**length"
   ]
  },
  {
   "cell_type": "code",
   "execution_count": 84,
   "id": "4d996283",
   "metadata": {},
   "outputs": [
    {
     "name": "stdout",
     "output_type": "stream",
     "text": [
      "the number is armstrong\n"
     ]
    }
   ],
   "source": [
    "if sum == int(x):\n",
    "    print(\"the number is armstrong\")"
   ]
  },
  {
   "cell_type": "markdown",
   "id": "95e508bb",
   "metadata": {},
   "source": [
    "# 5. Write a Python Program to Find Armstrong Number in an Interval?"
   ]
  },
  {
   "cell_type": "code",
   "execution_count": 87,
   "id": "1bdce2cf",
   "metadata": {},
   "outputs": [
    {
     "name": "stdout",
     "output_type": "stream",
     "text": [
      "Enter lower range1\n",
      "Enter higher range1000\n",
      "1\n",
      "2\n",
      "3\n",
      "4\n",
      "5\n",
      "6\n",
      "7\n",
      "8\n",
      "9\n",
      "153\n",
      "370\n",
      "371\n",
      "407\n"
     ]
    }
   ],
   "source": [
    "x = int(input(\"Enter lower range\"))\n",
    "y = int(input(\"Enter higher range\"))\n",
    "for i in range(x,y):\n",
    "    length = len(str(i))\n",
    "    numlist = []\n",
    "    copy = i\n",
    "    while copy>0:\n",
    "        resrem = copy%10\n",
    "        copy = int(copy/10)\n",
    "        numlist.append(resrem)\n",
    "    sum = 0\n",
    "    for j in numlist:\n",
    "        sum = sum + j**length\n",
    "    if sum == int(i):\n",
    "        print(i)\n",
    "    "
   ]
  },
  {
   "cell_type": "markdown",
   "id": "04457824",
   "metadata": {},
   "source": [
    "# 6.Write a Python Program to Find the Sum of Natural Numbers?"
   ]
  },
  {
   "cell_type": "code",
   "execution_count": 90,
   "id": "bd88283e",
   "metadata": {},
   "outputs": [
    {
     "name": "stdout",
     "output_type": "stream",
     "text": [
      "Enter the number5\n",
      "15\n"
     ]
    }
   ],
   "source": [
    "num = int(input(\"Enter the number\"))\n",
    "if num<0:\n",
    "    print(\"entered number is negative\")\n",
    "else:\n",
    "    sum = 0\n",
    "    while num>0:\n",
    "        sum = num+ sum\n",
    "        num = num -1\n",
    "print(sum)"
   ]
  }
 ],
 "metadata": {
  "kernelspec": {
   "display_name": "Python 3",
   "language": "python",
   "name": "python3"
  },
  "language_info": {
   "codemirror_mode": {
    "name": "ipython",
    "version": 3
   },
   "file_extension": ".py",
   "mimetype": "text/x-python",
   "name": "python",
   "nbconvert_exporter": "python",
   "pygments_lexer": "ipython3",
   "version": "3.9.12"
  }
 },
 "nbformat": 4,
 "nbformat_minor": 5
}
