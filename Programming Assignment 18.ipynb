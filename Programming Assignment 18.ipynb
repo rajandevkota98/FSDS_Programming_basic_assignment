{
 "cells": [
  {
   "cell_type": "markdown",
   "id": "36f40d48",
   "metadata": {},
   "source": [
    "# Question 1\n",
    "\n",
    "Create a function that takes a list of non-negative integers and strings and return a new list\n",
    "without the strings."
   ]
  },
  {
   "cell_type": "code",
   "execution_count": 13,
   "id": "54ac10e9",
   "metadata": {},
   "outputs": [],
   "source": [
    "from typing import List\n",
    "def filter_list(list_: list())->list[int]:\n",
    "    new_list = [i for i in list_ if type(i)!=str]\n",
    "    return new_list\n",
    "\n",
    "    "
   ]
  },
  {
   "cell_type": "markdown",
   "id": "354d54ca",
   "metadata": {},
   "source": [
    "filter_list([1, 2, &quot;a&quot;, &quot;b&quot;])\n",
    "reverse(&quot;Hello World&quot;)\n",
    "\n",
    "move_to_end([1, 3, 2, 4, 4, 1], 1)"
   ]
  },
  {
   "cell_type": "code",
   "execution_count": 14,
   "id": "1d89bdd7",
   "metadata": {},
   "outputs": [
    {
     "data": {
      "text/plain": [
       "[1, 2]"
      ]
     },
     "execution_count": 14,
     "metadata": {},
     "output_type": "execute_result"
    }
   ],
   "source": [
    "filter_list([1, 2, \"a\", \"b\"])"
   ]
  },
  {
   "cell_type": "markdown",
   "id": "5806880b",
   "metadata": {},
   "source": [
    "# Question 2\n",
    "\n",
    "The &quot;Reverser&quot; takes a string as input and returns that string in reverse order, with the\n",
    "opposite case."
   ]
  },
  {
   "cell_type": "code",
   "execution_count": 28,
   "id": "164afb88",
   "metadata": {},
   "outputs": [],
   "source": [
    "def reverse(string_ : str)-> str:\n",
    "    return string_[::-1].title()"
   ]
  },
  {
   "cell_type": "code",
   "execution_count": 29,
   "id": "b5d2fcaf",
   "metadata": {},
   "outputs": [
    {
     "data": {
      "text/plain": [
       "'Dlrow Olleh'"
      ]
     },
     "execution_count": 29,
     "metadata": {},
     "output_type": "execute_result"
    }
   ],
   "source": [
    "reverse(\"Hello World\")"
   ]
  },
  {
   "cell_type": "code",
   "execution_count": 22,
   "id": "a7309715",
   "metadata": {},
   "outputs": [
    {
     "data": {
      "text/plain": [
       "'olleh'"
      ]
     },
     "execution_count": 22,
     "metadata": {},
     "output_type": "execute_result"
    }
   ],
   "source": [
    "x[::-1]"
   ]
  },
  {
   "cell_type": "markdown",
   "id": "210513d4",
   "metadata": {},
   "source": [
    "# Question 3\n",
    "\n",
    "You can assign variables from lists like this:\n",
    "\n",
    "lst = [1, 2, 3, 4, 5, 6]\n",
    "\n",
    "first = lst[0]\n",
    "\n",
    "middle = lst[1:-1]\n",
    "\n",
    "last = lst[-1]\n",
    "\n",
    "print(first) ➞ outputs 1\n",
    "\n",
    "print(middle) ➞ outputs [2, 3, 4, 5]\n",
    "\n",
    "print(last) ➞ outputs 6\n",
    "\n",
    "With Python 3, you can assign variables from lists in a much more succinct way. Create\n",
    "variables first, middle and last from the given list using destructuring assignment\n",
    "\n",
    "(check the Resources tab for some examples), where:\n",
    "first ➞ 1\n",
    "middle ➞ [2, 3, 4, 5]\n",
    "last ➞ 6\n",
    "\n",
    "Your task is to unpack the list writeyourcodehere into three \n",
    "\n",
    "variables, being first,\n",
    "\n",
    "middle, and last, with middle being everything in between the first \n",
    "\n",
    "and last element. Then\n",
    "\n",
    "print all three variables."
   ]
  },
  {
   "cell_type": "code",
   "execution_count": null,
   "id": "d95009a7",
   "metadata": {},
   "outputs": [],
   "source": []
  },
  {
   "cell_type": "code",
   "execution_count": null,
   "id": "e6858b5f",
   "metadata": {},
   "outputs": [],
   "source": []
  },
  {
   "cell_type": "markdown",
   "id": "8c291bb7",
   "metadata": {},
   "source": [
    "# Question 4\n",
    "\n",
    "Write a function that calculates the factorial of a number recursively."
   ]
  },
  {
   "cell_type": "code",
   "execution_count": 30,
   "id": "23edb9a6",
   "metadata": {},
   "outputs": [],
   "source": [
    "def factorial(n: int)-> int:\n",
    "    if n==1 or n==0:\n",
    "        return n\n",
    "    else:\n",
    "        return n*factorial(n-1)"
   ]
  },
  {
   "cell_type": "code",
   "execution_count": 31,
   "id": "f5d48b14",
   "metadata": {},
   "outputs": [
    {
     "data": {
      "text/plain": [
       "120"
      ]
     },
     "execution_count": 31,
     "metadata": {},
     "output_type": "execute_result"
    }
   ],
   "source": [
    "factorial(5)"
   ]
  },
  {
   "cell_type": "markdown",
   "id": "5d133569",
   "metadata": {},
   "source": [
    "# Question 5\n",
    "\n",
    "Write a function that moves all elements of one type to the end of the"
   ]
  },
  {
   "cell_type": "code",
   "execution_count": 36,
   "id": "88d8c27b",
   "metadata": {},
   "outputs": [],
   "source": [
    "def move_to_end(list_ : list(), value)->list:\n",
    "    new_list = [i for i in list_ if i!=value]\n",
    "    for i in list_:\n",
    "        if i not in new_list:\n",
    "                new_list.append(i)\n",
    "    new_list.append(value)\n",
    "    return new_list"
   ]
  },
  {
   "cell_type": "code",
   "execution_count": 37,
   "id": "8ea62f26",
   "metadata": {},
   "outputs": [
    {
     "data": {
      "text/plain": [
       "[3, 2, 4, 4, 1, 1]"
      ]
     },
     "execution_count": 37,
     "metadata": {},
     "output_type": "execute_result"
    }
   ],
   "source": [
    "move_to_end([1, 3, 2, 4, 4, 1], 1)"
   ]
  },
  {
   "cell_type": "code",
   "execution_count": null,
   "id": "7fbe65aa",
   "metadata": {},
   "outputs": [],
   "source": []
  }
 ],
 "metadata": {
  "kernelspec": {
   "display_name": "Python 3 (ipykernel)",
   "language": "python",
   "name": "python3"
  },
  "language_info": {
   "codemirror_mode": {
    "name": "ipython",
    "version": 3
   },
   "file_extension": ".py",
   "mimetype": "text/x-python",
   "name": "python",
   "nbconvert_exporter": "python",
   "pygments_lexer": "ipython3",
   "version": "3.10.9"
  }
 },
 "nbformat": 4,
 "nbformat_minor": 5
}
