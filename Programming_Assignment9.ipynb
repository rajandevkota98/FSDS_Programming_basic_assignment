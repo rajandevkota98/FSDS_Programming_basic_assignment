{
 "cells": [
  {
   "cell_type": "markdown",
   "id": "16258a0a",
   "metadata": {},
   "source": [
    "1.Write a Python program to check if the given number is a Disarium Number?"
   ]
  },
  {
   "cell_type": "code",
   "execution_count": 7,
   "id": "6692bd04",
   "metadata": {},
   "outputs": [],
   "source": [
    "def check_disarium(n):\n",
    "    temp = n\n",
    "    sum = 0\n",
    "    count = len(str(n))\n",
    "    while n>9:\n",
    "        rem = n%10\n",
    "        new_num = int(n/10)\n",
    "        sum = sum + rem**count\n",
    "        count = count - 1\n",
    "        n= new_num\n",
    "        if n<=9:\n",
    "            sum = sum + n\n",
    "            print('last', sum)\n",
    "    return temp == sum\n",
    "    "
   ]
  },
  {
   "cell_type": "code",
   "execution_count": 8,
   "id": "7b0984ce",
   "metadata": {},
   "outputs": [
    {
     "name": "stdout",
     "output_type": "stream",
     "text": [
      "last 518\n"
     ]
    },
    {
     "data": {
      "text/plain": [
       "True"
      ]
     },
     "execution_count": 8,
     "metadata": {},
     "output_type": "execute_result"
    }
   ],
   "source": [
    "check_disarium(518)"
   ]
  },
  {
   "cell_type": "markdown",
   "id": "93e2867b",
   "metadata": {},
   "source": [
    "Write a Python program to print all disarium numbers between 1 to 100?"
   ]
  },
  {
   "cell_type": "code",
   "execution_count": 9,
   "id": "89c8ea57",
   "metadata": {},
   "outputs": [],
   "source": [
    "def print_disarium():\n",
    "    list1 = []\n",
    "    for i in range(1,100):\n",
    "        temp = i\n",
    "        sum = 0\n",
    "        count = len(str(i))\n",
    "        while i>9:\n",
    "            rem = i%10\n",
    "            new_num = int(i/10)\n",
    "            sum = sum + rem**count\n",
    "            count = count - 1\n",
    "            i= new_num\n",
    "            if i<=9:\n",
    "                sum = sum + i\n",
    "        if sum==temp or temp <=9:\n",
    "            print(temp)\n",
    "    return  True\n",
    "            "
   ]
  },
  {
   "cell_type": "code",
   "execution_count": 10,
   "id": "a73318e6",
   "metadata": {},
   "outputs": [
    {
     "name": "stdout",
     "output_type": "stream",
     "text": [
      "1\n",
      "2\n",
      "3\n",
      "4\n",
      "5\n",
      "6\n",
      "7\n",
      "8\n",
      "9\n",
      "89\n"
     ]
    },
    {
     "data": {
      "text/plain": [
       "True"
      ]
     },
     "execution_count": 10,
     "metadata": {},
     "output_type": "execute_result"
    }
   ],
   "source": [
    "print_disarium()"
   ]
  },
  {
   "cell_type": "markdown",
   "id": "9ddbb9c1",
   "metadata": {},
   "source": [
    "Write a Python program to check if the given number is Happy Number?"
   ]
  },
  {
   "cell_type": "code",
   "execution_count": 13,
   "id": "fe5299be",
   "metadata": {},
   "outputs": [
    {
     "name": "stdout",
     "output_type": "stream",
     "text": [
      "False\n",
      "True\n",
      "False\n"
     ]
    }
   ],
   "source": [
    "def is_Happy_num(n):\n",
    "  past = set()\n",
    "  while n != 1:\n",
    "        n = sum(int(i)**2 for i in str(n))\n",
    "        if n in past:\n",
    "            return False\n",
    "        past.add(n)\n",
    "  return True\n",
    "print(is_Happy_num(9))\n",
    "print(is_Happy_num(932))\n",
    "print(is_Happy_num(6))"
   ]
  },
  {
   "cell_type": "markdown",
   "id": "884d0788",
   "metadata": {},
   "source": [
    "4. Write a Python program to print all happy numbers between 1 and 100?"
   ]
  },
  {
   "cell_type": "code",
   "execution_count": null,
   "id": "aa28368a",
   "metadata": {},
   "outputs": [],
   "source": [
    "def print_in_range():\n",
    "    for i in range(1,101):\n",
    "          past = set()\n",
    "          while n != 1:\n",
    "            n = sum(int(i)**2 for i in str(n))\n",
    "            if n in past:\n",
    "                return False\n",
    "            past.add(n)\n",
    "return True\n",
    "print(is_Happy_num(9))\n",
    "print(is_Happy_num(932))\n",
    "print(is_Happy_num(6))\n",
    "    "
   ]
  },
  {
   "cell_type": "markdown",
   "id": "0f02f9fe",
   "metadata": {},
   "source": [
    "5. Write a Python program to determine whether the given number is a Harshad Number?"
   ]
  },
  {
   "cell_type": "code",
   "execution_count": 29,
   "id": "1cf741fd",
   "metadata": {},
   "outputs": [],
   "source": [
    "def check_harshad(num):\n",
    "    sum = 0\n",
    "    for i in str(num):\n",
    "        sum = sum + int(i)\n",
    "#         print(sum)\n",
    "    if num%sum == 0:\n",
    "        print('{} is harshad number'.format(num))\n",
    "    else:\n",
    "        print('{} is not a harshad number'.format(num))"
   ]
  },
  {
   "cell_type": "code",
   "execution_count": 30,
   "id": "e91410d4",
   "metadata": {},
   "outputs": [
    {
     "name": "stdout",
     "output_type": "stream",
     "text": [
      "19 is not a harshad number\n"
     ]
    }
   ],
   "source": [
    "check_harshad(19)"
   ]
  },
  {
   "cell_type": "markdown",
   "id": "062bca7f",
   "metadata": {},
   "source": [
    "6. Write a Python program to print all pronic numbers between 1 and 100?"
   ]
  },
  {
   "cell_type": "code",
   "execution_count": 47,
   "id": "66973485",
   "metadata": {},
   "outputs": [],
   "source": [
    "def pronic_list1():\n",
    "    pronic_num_list = []\n",
    "    num = 0\n",
    "    for i in range(1,100):\n",
    "        num = i*(i+1)\n",
    "        if num<100:\n",
    "                pronic_num_list.append(num)\n",
    "    return pronic_num_list\n",
    "        "
   ]
  },
  {
   "cell_type": "code",
   "execution_count": 48,
   "id": "bc35435c",
   "metadata": {},
   "outputs": [
    {
     "data": {
      "text/plain": [
       "[2, 6, 12, 20, 30, 42, 56, 72, 90]"
      ]
     },
     "execution_count": 48,
     "metadata": {},
     "output_type": "execute_result"
    }
   ],
   "source": [
    "pronic_list1()"
   ]
  },
  {
   "cell_type": "code",
   "execution_count": null,
   "id": "b78d80f8",
   "metadata": {},
   "outputs": [],
   "source": []
  }
 ],
 "metadata": {
  "kernelspec": {
   "display_name": "Python 3",
   "language": "python",
   "name": "python3"
  },
  "language_info": {
   "codemirror_mode": {
    "name": "ipython",
    "version": 3
   },
   "file_extension": ".py",
   "mimetype": "text/x-python",
   "name": "python",
   "nbconvert_exporter": "python",
   "pygments_lexer": "ipython3",
   "version": "3.9.12"
  }
 },
 "nbformat": 4,
 "nbformat_minor": 5
}
