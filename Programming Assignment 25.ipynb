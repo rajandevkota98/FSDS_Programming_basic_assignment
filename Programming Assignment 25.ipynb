{
 "cells": [
  {
   "cell_type": "markdown",
   "id": "059f1658",
   "metadata": {},
   "source": [
    "# Question1\n",
    "\n",
    "Create a function that takes three integer arguments (a, b, c) and returns the amount of\n",
    "integers which are of equal value.\n",
    "\n",
    "Examples\n",
    "\n",
    "equal(3, 4, 3) ➞ 2\n",
    "\n",
    "equal(1, 1, 1) ➞ 3\n",
    "\n",
    "equal(3, 4, 1) ➞ 0\n",
    "\n",
    "Notes:\n",
    "Your function must return 0, 2 or 3."
   ]
  },
  {
   "cell_type": "code",
   "execution_count": 5,
   "id": "39cdbd46",
   "metadata": {},
   "outputs": [],
   "source": [
    "def equal(num1:int,num2:int,num3:int)->int:\n",
    "    if num1==num2 and num1==num3:\n",
    "        return 3\n",
    "    elif  num1==num2 and num1!=num3:\n",
    "        return 2\n",
    "    elif  num2==num3 and num2!=num1:\n",
    "        return 2\n",
    "    elif num1==num3 and num1!=num2:\n",
    "        return 2\n",
    "    else:\n",
    "        return 1"
   ]
  },
  {
   "cell_type": "code",
   "execution_count": 6,
   "id": "fd16aa5a",
   "metadata": {},
   "outputs": [
    {
     "data": {
      "text/plain": [
       "2"
      ]
     },
     "execution_count": 6,
     "metadata": {},
     "output_type": "execute_result"
    }
   ],
   "source": [
    "equal(3, 4, 3)"
   ]
  },
  {
   "cell_type": "code",
   "execution_count": 7,
   "id": "4606e3c5",
   "metadata": {},
   "outputs": [
    {
     "data": {
      "text/plain": [
       "3"
      ]
     },
     "execution_count": 7,
     "metadata": {},
     "output_type": "execute_result"
    }
   ],
   "source": [
    "equal(1, 1, 1)"
   ]
  },
  {
   "cell_type": "code",
   "execution_count": 34,
   "id": "1ab0c99e",
   "metadata": {},
   "outputs": [],
   "source": [
    "# This is hard coded..lets automate it\n",
    "def equal(num1:int,num2:int,num3:int)->int:\n",
    "    list1 = [num1,num2,num3]\n",
    "    dict_ =dict()\n",
    "    for i in list1:\n",
    "        if i not in dict_:\n",
    "            dict_[i]=1\n",
    "        else:\n",
    "            dict_[i]=dict_[i]+1\n",
    "    max_occurence = max(dict_)\n",
    "    return dict_[max_occurence]\n",
    "    \n",
    "    "
   ]
  },
  {
   "cell_type": "code",
   "execution_count": 38,
   "id": "df68aa7a",
   "metadata": {},
   "outputs": [
    {
     "data": {
      "text/plain": [
       "2"
      ]
     },
     "execution_count": 38,
     "metadata": {},
     "output_type": "execute_result"
    }
   ],
   "source": [
    "equal(1,2,2)"
   ]
  },
  {
   "cell_type": "code",
   "execution_count": 39,
   "id": "215b4e6c",
   "metadata": {},
   "outputs": [
    {
     "data": {
      "text/plain": [
       "3"
      ]
     },
     "execution_count": 39,
     "metadata": {},
     "output_type": "execute_result"
    }
   ],
   "source": [
    "equal(1,1,1)"
   ]
  },
  {
   "cell_type": "markdown",
   "id": "9ef86046",
   "metadata": {},
   "source": [
    "# Question2\n",
    "\n",
    "Write a function that converts a dictionary into a list of keys-values tuples.\n",
    "\n",
    "Examples\n",
    "\n",
    "dict_to_list({\n",
    "&quot;D&quot;: 1,\n",
    "&quot;B&quot;: 2,\n",
    "&quot;C&quot;: 3\n",
    "})\n",
    "➞ [(&quot;B&quot;, 2), (&quot;C&quot;, 3), (&quot;D&quot;, 1)]\n",
    "\n",
    "dict_to_list({\n",
    "&quot;likes&quot;: 2,\n",
    "&quot;dislikes&quot;: 3,\n",
    "&quot;followers&quot;: 10\n",
    "})\n",
    "\n",
    "➞ [(&quot;dislikes&quot;, 3), (&quot;followers&quot;, 10), (&quot;likes&quot;, 2)]\n",
    "\n",
    "Notes:\n",
    "Return the elements in the list in alphabetical order."
   ]
  },
  {
   "cell_type": "code",
   "execution_count": 47,
   "id": "cf611bb4",
   "metadata": {},
   "outputs": [],
   "source": [
    "def dict_to_list(dict_):\n",
    "    list_ = []\n",
    "    for i in dict_:\n",
    "        temp = (i, dict_[i])\n",
    "        list_.append(temp)\n",
    "        \n",
    "    list_.sort()\n",
    "    return list_\n"
   ]
  },
  {
   "cell_type": "code",
   "execution_count": 48,
   "id": "e7c6b2ed",
   "metadata": {},
   "outputs": [
    {
     "data": {
      "text/plain": [
       "[('B', 2), ('C', 3), ('D', 1)]"
      ]
     },
     "execution_count": 48,
     "metadata": {},
     "output_type": "execute_result"
    }
   ],
   "source": [
    "dict_to_list({ \"D\": 1, \"B\": 2, \"C\": 3 })"
   ]
  },
  {
   "cell_type": "code",
   "execution_count": 49,
   "id": "db06a11e",
   "metadata": {},
   "outputs": [
    {
     "data": {
      "text/plain": [
       "[('dislikes', 3), ('followers', 10), ('likes', 2)]"
      ]
     },
     "execution_count": 49,
     "metadata": {},
     "output_type": "execute_result"
    }
   ],
   "source": [
    "dict_to_list({ \"likes\": 2, \"dislikes\": 3, \"followers\": 10 })"
   ]
  },
  {
   "cell_type": "markdown",
   "id": "3565ae13",
   "metadata": {},
   "source": [
    "# Question3\n",
    "\n",
    "Write a function that creates a dictionary with each (key, value) pair being the (lower case,\n",
    "upper case) versions of a letter, respectively.\n",
    "\n",
    "Examples\n",
    "\n",
    "mapping([&quot;p&quot;, &quot;s&quot;]) ➞ { &quot;p&quot;: &quot;P&quot;, &quot;s&quot;: &quot;S&quot; }\n",
    "\n",
    "mapping([&quot;a&quot;, &quot;b&quot;, &quot;c&quot;]) ➞ { &quot;a&quot;: &quot;A&quot;, &quot;b&quot;: &quot;B&quot;, &quot;c&quot;: &quot;C&quot; }\n",
    "\n",
    "mapping([&quot;a&quot;, &quot;v&quot;, &quot;y&quot;, &quot;z&quot;]) ➞ { &quot;a&quot;: &quot;A&quot;, &quot;v&quot;: &quot;V&quot;, &quot;y&quot;: &quot;Y&quot;, &quot;z&quot;: &quot;Z&quot; }\n"
   ]
  },
  {
   "cell_type": "code",
   "execution_count": 52,
   "id": "aea9a6cf",
   "metadata": {},
   "outputs": [],
   "source": [
    "def mapping(list_):\n",
    "    dict_ = dict()\n",
    "    for i in list_:\n",
    "        dict_[i] = i.upper()\n",
    "    return dict_"
   ]
  },
  {
   "cell_type": "code",
   "execution_count": 53,
   "id": "0ce7a33f",
   "metadata": {},
   "outputs": [
    {
     "data": {
      "text/plain": [
       "{'p': 'P', 's': 'S'}"
      ]
     },
     "execution_count": 53,
     "metadata": {},
     "output_type": "execute_result"
    }
   ],
   "source": [
    "mapping([\"p\", \"s\"]) "
   ]
  },
  {
   "cell_type": "markdown",
   "id": "b4da9a74",
   "metadata": {},
   "source": [
    "# Question4\n",
    "\n",
    "Write a function, that replaces all vowels in a string with a specified vowel.\n",
    "Examples\n",
    "\n",
    "vow_replace(&quot;apples and bananas&quot;, &quot;u&quot;) ➞ &quot;upplus und bununus&quot;\n",
    "\n",
    "vow_replace(&quot;cheese casserole&quot;, &quot;o&quot;) ➞ &quot;chooso cossorolo&quot;\n",
    "\n",
    "vow_replace(&quot;stuffed jalapeno poppers&quot;, &quot;e&quot;) ➞ &quot;steffed jelepene peppers&quot;\n",
    "\n",
    "Notes:\n",
    "All words will be lowercase. Y is not considered a vowel."
   ]
  },
  {
   "cell_type": "code",
   "execution_count": 65,
   "id": "ddcdcb60",
   "metadata": {},
   "outputs": [],
   "source": [
    "def vow_replace(string_,x):\n",
    "    list_ = list(string_)\n",
    "    print(list_)\n",
    "    for i in range(len(list_)):\n",
    "        if list_[i]=='a' or list_[i]=='e' or list_[i]=='i' or list_[i]=='o' or list_[i]=='a':\n",
    "            list_[i]=x\n",
    "    final_str = ''.join(i for i in list_)\n",
    "    return final_str"
   ]
  },
  {
   "cell_type": "code",
   "execution_count": 66,
   "id": "2c85c623",
   "metadata": {},
   "outputs": [
    {
     "name": "stdout",
     "output_type": "stream",
     "text": [
      "['a', 'p', 'p', 'l', 'e', 's', ' ', 'a', 'n', 'd', ' ', 'b', 'a', 'n', 'a', 'n', 'a', 's']\n"
     ]
    },
    {
     "data": {
      "text/plain": [
       "'upplus und bununus'"
      ]
     },
     "execution_count": 66,
     "metadata": {},
     "output_type": "execute_result"
    }
   ],
   "source": [
    "vow_replace(\"apples and bananas\", \"u\") "
   ]
  },
  {
   "cell_type": "code",
   "execution_count": 67,
   "id": "948de69b",
   "metadata": {},
   "outputs": [
    {
     "name": "stdout",
     "output_type": "stream",
     "text": [
      "['c', 'h', 'e', 'e', 's', 'e', ' ', 'c', 'a', 's', 's', 'e', 'r', 'o', 'l', 'e']\n"
     ]
    },
    {
     "data": {
      "text/plain": [
       "'chooso cossorolo'"
      ]
     },
     "execution_count": 67,
     "metadata": {},
     "output_type": "execute_result"
    }
   ],
   "source": [
    "vow_replace(\"cheese casserole\", \"o\") "
   ]
  },
  {
   "cell_type": "markdown",
   "id": "0bc92a08",
   "metadata": {},
   "source": [
    "# Question5\n",
    "\n",
    "Create a function that takes a string as input and capitalizes a letter if its ASCII code is even and returns its lower case version if its ASCII code is odd.\n",
    "\n",
    "Examples\n",
    "\n",
    "ascii_capitalize(&quot;to be or not to be!&quot;) ➞ &quot;To Be oR NoT To Be!&quot;\n",
    "\n",
    "ascii_capitalize(&quot;THE LITTLE MERMAID&quot;) ➞ &quot;THe LiTTLe meRmaiD&quot;\n",
    "\n",
    "ascii_capitalize(&quot;Oh what a beautiful morning.&quot;) ➞ &quot;oH wHaT a BeauTiFuL\n",
    "moRNiNg.&quot;"
   ]
  },
  {
   "cell_type": "code",
   "execution_count": 71,
   "id": "afb02d7e",
   "metadata": {},
   "outputs": [],
   "source": [
    "def ascii_capitalize(string):\n",
    "    list_ = list(string)\n",
    "    for i in range(len(list_)):\n",
    "        if ord(list_[i])%2==0:\n",
    "            list_[i] = list_[i].upper()\n",
    "    final = ''.join(i for i in list_)\n",
    "    return final\n",
    "        \n",
    "        "
   ]
  },
  {
   "cell_type": "code",
   "execution_count": 72,
   "id": "d9dc32e7",
   "metadata": {},
   "outputs": [
    {
     "data": {
      "text/plain": [
       "'To Be oR NoT To Be!'"
      ]
     },
     "execution_count": 72,
     "metadata": {},
     "output_type": "execute_result"
    }
   ],
   "source": [
    "ascii_capitalize(\"to be or not to be!\")"
   ]
  },
  {
   "cell_type": "code",
   "execution_count": 73,
   "id": "d3d3783b",
   "metadata": {},
   "outputs": [
    {
     "data": {
      "text/plain": [
       "'THE LITTLE MERMAID'"
      ]
     },
     "execution_count": 73,
     "metadata": {},
     "output_type": "execute_result"
    }
   ],
   "source": [
    "ascii_capitalize(\"THE LITTLE MERMAID\") "
   ]
  }
 ],
 "metadata": {
  "kernelspec": {
   "display_name": "Python 3 (ipykernel)",
   "language": "python",
   "name": "python3"
  },
  "language_info": {
   "codemirror_mode": {
    "name": "ipython",
    "version": 3
   },
   "file_extension": ".py",
   "mimetype": "text/x-python",
   "name": "python",
   "nbconvert_exporter": "python",
   "pygments_lexer": "ipython3",
   "version": "3.10.9"
  }
 },
 "nbformat": 4,
 "nbformat_minor": 5
}
