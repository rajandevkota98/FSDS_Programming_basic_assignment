{
 "cells": [
  {
   "cell_type": "markdown",
   "id": "14aba44c",
   "metadata": {},
   "source": [
    "# 1. Write a Python program to find words which are greater than given length k?"
   ]
  },
  {
   "cell_type": "code",
   "execution_count": 1,
   "id": "55a66c4f",
   "metadata": {},
   "outputs": [],
   "source": [
    "def greater_len_K(l,k):\n",
    "    word_list = []\n",
    "    for i in l:\n",
    "        if len(i)>k:\n",
    "            word_list.append(i)\n",
    "    return word_list"
   ]
  },
  {
   "cell_type": "code",
   "execution_count": 2,
   "id": "6decfe6e",
   "metadata": {},
   "outputs": [
    {
     "data": {
      "text/plain": [
       "['Devkota', 'Sudhanshu']"
      ]
     },
     "execution_count": 2,
     "metadata": {},
     "output_type": "execute_result"
    }
   ],
   "source": [
    "greater_len_K(['Rajan','Devkota','Sudhanshu', 'Kumar', 'Krish'], 5)"
   ]
  },
  {
   "cell_type": "markdown",
   "id": "2f5e3c38",
   "metadata": {},
   "source": [
    "# 2. Write a Python program for removing i-th character from a string?"
   ]
  },
  {
   "cell_type": "code",
   "execution_count": 23,
   "id": "c5a5b9a0",
   "metadata": {},
   "outputs": [],
   "source": [
    "def remove_ith_string(s,i):\n",
    "    return s.replace(s[i-1],'')"
   ]
  },
  {
   "cell_type": "code",
   "execution_count": 24,
   "id": "3c6f75de",
   "metadata": {},
   "outputs": [
    {
     "data": {
      "text/plain": [
       "'Rjn'"
      ]
     },
     "execution_count": 24,
     "metadata": {},
     "output_type": "execute_result"
    }
   ],
   "source": [
    "remove_ith_string('Rajan',2)"
   ]
  },
  {
   "cell_type": "markdown",
   "id": "88ded38f",
   "metadata": {},
   "source": [
    "3. Write a Python program to split and join a string?"
   ]
  },
  {
   "cell_type": "code",
   "execution_count": 3,
   "id": "2abaf6d1",
   "metadata": {},
   "outputs": [],
   "source": [
    "def split_string(string):\n",
    " \n",
    "    list_string = string.split(' ')\n",
    "     \n",
    "    return list_string\n",
    " \n",
    "def join_string(list_string):\n",
    " \n",
    "    string = '-'.join(list_string)\n",
    "     \n",
    "    return string\n"
   ]
  },
  {
   "cell_type": "markdown",
   "id": "89e51b99",
   "metadata": {},
   "source": [
    "# 4. Write a Python to check if a given string is binary string or not?"
   ]
  },
  {
   "cell_type": "code",
   "execution_count": 4,
   "id": "26f0ec97",
   "metadata": {},
   "outputs": [],
   "source": [
    "def check_binary(s):\n",
    "    flag = True\n",
    "    binary_value = ['0','1']\n",
    "    for i in s:\n",
    "        if i not in binary_value:\n",
    "            flag = False\n",
    "            break\n",
    "    return flag\n",
    "    "
   ]
  },
  {
   "cell_type": "code",
   "execution_count": 6,
   "id": "603abe6f",
   "metadata": {},
   "outputs": [
    {
     "data": {
      "text/plain": [
       "False"
      ]
     },
     "execution_count": 6,
     "metadata": {},
     "output_type": "execute_result"
    }
   ],
   "source": [
    "check_binary('101A')"
   ]
  },
  {
   "cell_type": "code",
   "execution_count": 7,
   "id": "dc5b1fff",
   "metadata": {},
   "outputs": [
    {
     "data": {
      "text/plain": [
       "True"
      ]
     },
     "execution_count": 7,
     "metadata": {},
     "output_type": "execute_result"
    }
   ],
   "source": [
    "check_binary('101010101')"
   ]
  },
  {
   "cell_type": "markdown",
   "id": "8957cbba",
   "metadata": {},
   "source": [
    "# 5. Write a Python program to find uncommon words from two Strings?"
   ]
  },
  {
   "cell_type": "code",
   "execution_count": 43,
   "id": "4996ea3f",
   "metadata": {},
   "outputs": [],
   "source": [
    "def uncommon_word(s1,s2):\n",
    "    l1 = s1.split(' ')\n",
    "    l2 = s2.split(' ')\n",
    "    l3 = []\n",
    "    l4 = []\n",
    "    for i in l1:\n",
    "        for j in l2:\n",
    "            if i==j:\n",
    "                l3.append(i)\n",
    "    for i in l1:\n",
    "        if i not in l3:\n",
    "            l4.append(i)\n",
    "    for i in l2:\n",
    "        if i not in l3:\n",
    "            l4.append(i)\n",
    "    return l4"
   ]
  },
  {
   "cell_type": "code",
   "execution_count": 44,
   "id": "871a3cef",
   "metadata": {},
   "outputs": [
    {
     "data": {
      "text/plain": [
       "['bhai', 'k', 'thik']"
      ]
     },
     "execution_count": 44,
     "metadata": {},
     "output_type": "execute_result"
    }
   ],
   "source": [
    "uncommon_word('hello bhai k chha','hello thik chha')"
   ]
  },
  {
   "cell_type": "markdown",
   "id": "c7f8fbeb",
   "metadata": {},
   "source": [
    "# 6. Write a Python to find all duplicate characters in string?"
   ]
  },
  {
   "cell_type": "code",
   "execution_count": 92,
   "id": "f01ad74c",
   "metadata": {},
   "outputs": [],
   "source": [
    "def find_duplicate(s):\n",
    "    dict_count = dict()\n",
    "    for i in s:\n",
    "        if i not in dict_count:\n",
    "            dict_count[i] = 1\n",
    "        else:\n",
    "            dict_count[i] = dict_count[i]+1\n",
    "    for i in dict_count:\n",
    "        if dict_count[i]>1:\n",
    "            print(i)"
   ]
  },
  {
   "cell_type": "code",
   "execution_count": 95,
   "id": "f9ce3734",
   "metadata": {},
   "outputs": [
    {
     "name": "stdout",
     "output_type": "stream",
     "text": [
      "a\n",
      "n\n"
     ]
    }
   ],
   "source": [
    "find_duplicate('Rajanan')"
   ]
  },
  {
   "cell_type": "markdown",
   "id": "3f131779",
   "metadata": {},
   "source": [
    "# 7. Write a Python Program to check if a string contains any special character?"
   ]
  },
  {
   "cell_type": "code",
   "execution_count": 117,
   "id": "7e990358",
   "metadata": {},
   "outputs": [],
   "source": [
    "def special_character(s):\n",
    "    for i in s:\n",
    "        if ord(i) in range(65,91) or ord(i) in range(97,123) or ord(i) in range(48,57):\n",
    "            print('{} is not special'.format(i))\n",
    "        else:\n",
    "            print('{} is special character of{}'.format(i,s))"
   ]
  },
  {
   "cell_type": "code",
   "execution_count": 119,
   "id": "a69bc47c",
   "metadata": {},
   "outputs": [
    {
     "name": "stdout",
     "output_type": "stream",
     "text": [
      "R is not special\n",
      "a is not special\n",
      "j is not special\n",
      "a is not special\n",
      "n is not special\n",
      ". is special character ofRajan.\n"
     ]
    }
   ],
   "source": [
    "special_character('Rajan.')"
   ]
  },
  {
   "cell_type": "code",
   "execution_count": null,
   "id": "7ffffa00",
   "metadata": {},
   "outputs": [],
   "source": []
  }
 ],
 "metadata": {
  "kernelspec": {
   "display_name": "Python 3",
   "language": "python",
   "name": "python3"
  },
  "language_info": {
   "codemirror_mode": {
    "name": "ipython",
    "version": 3
   },
   "file_extension": ".py",
   "mimetype": "text/x-python",
   "name": "python",
   "nbconvert_exporter": "python",
   "pygments_lexer": "ipython3",
   "version": "3.9.12"
  }
 },
 "nbformat": 4,
 "nbformat_minor": 5
}
