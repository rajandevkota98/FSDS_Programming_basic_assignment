{
 "cells": [
  {
   "cell_type": "markdown",
   "id": "43c99652",
   "metadata": {},
   "source": [
    "# 1. Write a Python Program to Find LCM?"
   ]
  },
  {
   "cell_type": "code",
   "execution_count": 10,
   "id": "1619b3cd",
   "metadata": {},
   "outputs": [],
   "source": [
    "def calculate_lcm(x,y):\n",
    "    if x > y:\n",
    "        lcm = x\n",
    "    else:\n",
    "        lcm = y\n",
    "    while True:\n",
    "        if lcm%x==0 and lcm%y==0:\n",
    "            print('The lcm is ', lcm)\n",
    "            break\n",
    "        lcm = lcm + 1\n",
    "    return lcm\n",
    "    "
   ]
  },
  {
   "cell_type": "code",
   "execution_count": 11,
   "id": "804234a2",
   "metadata": {},
   "outputs": [
    {
     "name": "stdout",
     "output_type": "stream",
     "text": [
      "The lcm is  240\n"
     ]
    },
    {
     "data": {
      "text/plain": [
       "240"
      ]
     },
     "execution_count": 11,
     "metadata": {},
     "output_type": "execute_result"
    }
   ],
   "source": [
    "calculate_lcm(15,16)"
   ]
  },
  {
   "cell_type": "markdown",
   "id": "f77688c4",
   "metadata": {},
   "source": [
    "# 2. Write a Python Program to Find HCF?"
   ]
  },
  {
   "cell_type": "code",
   "execution_count": 17,
   "id": "ae2b8105",
   "metadata": {},
   "outputs": [],
   "source": [
    "def calculate_hcf(x, y):\n",
    "\n",
    "    if x > y:\n",
    "        smaller = y\n",
    "    else:\n",
    "        smaller = x\n",
    "    for i in range(1, smaller+1):\n",
    "        if((x % i == 0) and (y % i == 0)):\n",
    "            hcf = i \n",
    "    return hcf"
   ]
  },
  {
   "cell_type": "code",
   "execution_count": 19,
   "id": "2780b468",
   "metadata": {},
   "outputs": [
    {
     "data": {
      "text/plain": [
       "5"
      ]
     },
     "execution_count": 19,
     "metadata": {},
     "output_type": "execute_result"
    }
   ],
   "source": [
    "calculate_hcf(60,5)"
   ]
  },
  {
   "cell_type": "markdown",
   "id": "4cf14c8c",
   "metadata": {},
   "source": [
    "# 3. Write a Python Program to Convert Decimal to Binary, Octal and Hexadecimal?"
   ]
  },
  {
   "cell_type": "code",
   "execution_count": 89,
   "id": "4e3aaf24",
   "metadata": {},
   "outputs": [],
   "source": [
    "#program to convert decimal to binary\n",
    "def convert_binary(n):\n",
    "    a = 0\n",
    "    i = 1\n",
    "    while n>0:\n",
    "        rem = n%2\n",
    "        n = int(n/2)\n",
    "        a  = a + rem*i\n",
    "        i = i*10\n",
    "    return a"
   ]
  },
  {
   "cell_type": "code",
   "execution_count": 90,
   "id": "7e79f5d2",
   "metadata": {},
   "outputs": [
    {
     "data": {
      "text/plain": [
       "101"
      ]
     },
     "execution_count": 90,
     "metadata": {},
     "output_type": "execute_result"
    }
   ],
   "source": [
    "convert_binary(5)"
   ]
  },
  {
   "cell_type": "code",
   "execution_count": 113,
   "id": "924a4a78",
   "metadata": {},
   "outputs": [],
   "source": [
    "def convert_octal(n):\n",
    "    octal = 0\n",
    "    i = 0\n",
    "    copy = decimal  \n",
    " \n",
    "\n",
    "    while(copy > 0):\n",
    "        octal += ((copy%8)*(10**i))  \n",
    "        copy = int(copy/8)             \n",
    "        i += 1\n",
    "       \n",
    "    print(\"The octal of\",decimal, \" is \",octal)"
   ]
  },
  {
   "cell_type": "code",
   "execution_count": 115,
   "id": "141d35ca",
   "metadata": {},
   "outputs": [
    {
     "name": "stdout",
     "output_type": "stream",
     "text": [
      "The octal of 15  is  17\n"
     ]
    }
   ],
   "source": [
    "convert_octal(20)"
   ]
  },
  {
   "cell_type": "code",
   "execution_count": 119,
   "id": "db7a306c",
   "metadata": {},
   "outputs": [
    {
     "name": "stdout",
     "output_type": "stream",
     "text": [
      "Enter decimal15\n",
      "The hexadecimal of  15  is 0xf\n"
     ]
    }
   ],
   "source": [
    "n = int(input(\"Enter decimal\"))\n",
    "print(\"The hexadecimal of \", n, \" is\", hex(n))"
   ]
  },
  {
   "cell_type": "markdown",
   "id": "46da7c30",
   "metadata": {},
   "source": [
    "# 4. Write a Python Program To Find ASCII value of a character?"
   ]
  },
  {
   "cell_type": "code",
   "execution_count": 99,
   "id": "f98bd302",
   "metadata": {},
   "outputs": [
    {
     "name": "stdout",
     "output_type": "stream",
     "text": [
      "The ASCII value of character is 97\n"
     ]
    }
   ],
   "source": [
    "character = 'a'\n",
    "print('The ASCII value of character is', ord(character))"
   ]
  },
  {
   "cell_type": "code",
   "execution_count": null,
   "id": "28fa13dc",
   "metadata": {},
   "outputs": [],
   "source": []
  }
 ],
 "metadata": {
  "kernelspec": {
   "display_name": "Python 3",
   "language": "python",
   "name": "python3"
  },
  "language_info": {
   "codemirror_mode": {
    "name": "ipython",
    "version": 3
   },
   "file_extension": ".py",
   "mimetype": "text/x-python",
   "name": "python",
   "nbconvert_exporter": "python",
   "pygments_lexer": "ipython3",
   "version": "3.9.12"
  }
 },
 "nbformat": 4,
 "nbformat_minor": 5
}
